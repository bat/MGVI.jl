{
 "cells": [
  {
   "cell_type": "code",
   "execution_count": 1,
   "metadata": {},
   "outputs": [],
   "source": [
    "using Revise\n",
    "using MGVInference\n",
    "\n",
    "using Distributions\n",
    "using Random\n",
    "using ValueShapes\n",
    "using LinearAlgebra\n",
    "using Optim"
   ]
  },
  {
   "cell_type": "code",
   "execution_count": 3,
   "metadata": {},
   "outputs": [],
   "source": [
    "include(\"../test/test_models/model_polyfit.jl\");"
   ]
  },
  {
   "cell_type": "code",
   "execution_count": 4,
   "metadata": {},
   "outputs": [
    {
     "data": {
      "text/plain": [
       "5-element Array{Float64,1}:\n",
       "  0.2\n",
       "  0.5\n",
       " -0.1\n",
       "  0.3\n",
       " -0.6"
      ]
     },
     "execution_count": 4,
     "metadata": {},
     "output_type": "execute_result"
    }
   ],
   "source": [
    "starting_point"
   ]
  },
  {
   "cell_type": "code",
   "execution_count": 5,
   "metadata": {},
   "outputs": [
    {
     "data": {
      "text/plain": [
       "pprintln (generic function with 1 method)"
      ]
     },
     "execution_count": 5,
     "metadata": {},
     "output_type": "execute_result"
    }
   ],
   "source": [
    "function pprintln(obj)\n",
    "    show(stdout, \"text/plain\", obj)\n",
    "    println()\n",
    "end"
   ]
  },
  {
   "cell_type": "code",
   "execution_count": 6,
   "metadata": {},
   "outputs": [
    {
     "data": {
      "text/plain": [
       "Plots.GRBackend()"
      ]
     },
     "execution_count": 6,
     "metadata": {},
     "output_type": "execute_result"
    }
   ],
   "source": [
    "using Plots\n",
    "gr(size=(400, 300), dpi=700)"
   ]
  },
  {
   "cell_type": "code",
   "execution_count": 7,
   "metadata": {},
   "outputs": [],
   "source": [
    "rng = MersenneTwister(157);"
   ]
  },
  {
   "cell_type": "code",
   "execution_count": 8,
   "metadata": {},
   "outputs": [],
   "source": [
    "data = rand(rng, model(true_params), 1)[1];"
   ]
  },
  {
   "cell_type": "code",
   "execution_count": 9,
   "metadata": {},
   "outputs": [
    {
     "data": {
      "text/plain": [
       "_mean (generic function with 2 methods)"
      ]
     },
     "execution_count": 9,
     "metadata": {},
     "output_type": "execute_result"
    }
   ],
   "source": [
    "function _mean(x::Vector)\n",
    "    _mean(_common_grid, x)\n",
    "end"
   ]
  },
  {
   "cell_type": "code",
   "execution_count": 10,
   "metadata": {},
   "outputs": [
    {
     "data": {
      "text/plain": [
       "#9 (generic function with 1 method)"
      ]
     },
     "execution_count": 10,
     "metadata": {},
     "output_type": "execute_result"
    }
   ],
   "source": [
    "init_plots =() -> let\n",
    "    truth = _mean(true_params)\n",
    "    plot!(_common_grid, truth, markercolor=:blue, linecolor=:blue, label=\"truth\")\n",
    "    scatter!(_common_grid, _mean(starting_point), markercolor=:orange, markerstrokewidth=0, markersize=3, label=\"init\")\n",
    "    scatter!(vcat(_x1_grid, _x2_grid), MGVInference.unshaped(data), markercolor=:black, markerstrokewidth=0, markersize=3, label=\"data\")\n",
    "end"
   ]
  },
  {
   "cell_type": "code",
   "execution_count": 11,
   "metadata": {},
   "outputs": [
    {
     "data": {
      "image/svg+xml": [
       "<?xml version=\"1.0\" encoding=\"utf-8\"?>\n",
       "<svg xmlns=\"http://www.w3.org/2000/svg\" xmlns:xlink=\"http://www.w3.org/1999/xlink\" width=\"700\" height=\"525\" viewBox=\"0 0 2800 2100\">\n",
       "<defs>\n",
       "  <clipPath id=\"clip750\">\n",
       "    <rect x=\"0\" y=\"0\" width=\"2800\" height=\"2100\"/>\n",
       "  </clipPath>\n",
       "</defs>\n",
       "<path clip-path=\"url(#clip750)\" d=\"\n",
       "M0 2100 L2800 2100 L2800 0 L0 0  Z\n",
       "  \" fill=\"#ffffff\" fill-rule=\"evenodd\" fill-opacity=\"1\"/>\n",
       "<defs>\n",
       "  <clipPath id=\"clip751\">\n",
       "    <rect x=\"560\" y=\"0\" width=\"1961\" height=\"1961\"/>\n",
       "  </clipPath>\n",
       "</defs>\n",
       "<path clip-path=\"url(#clip750)\" d=\"\n",
       "M281.922 1900.72 L2717.32 1900.72 L2717.32 82.6772 L281.922 82.6772  Z\n",
       "  \" fill=\"#ffffff\" fill-rule=\"evenodd\" fill-opacity=\"1\"/>\n",
       "<defs>\n",
       "  <clipPath id=\"clip752\">\n",
       "    <rect x=\"281\" y=\"82\" width=\"2436\" height=\"1819\"/>\n",
       "  </clipPath>\n",
       "</defs>\n",
       "<polyline clip-path=\"url(#clip752)\" style=\"stroke:#000000; stroke-width:3.5; stroke-opacity:0.1; fill:none\" points=\"\n",
       "  733.773,1900.72 733.773,82.6772 \n",
       "  \"/>\n",
       "<polyline clip-path=\"url(#clip752)\" style=\"stroke:#000000; stroke-width:3.5; stroke-opacity:0.1; fill:none\" points=\"\n",
       "  1212.43,1900.72 1212.43,82.6772 \n",
       "  \"/>\n",
       "<polyline clip-path=\"url(#clip752)\" style=\"stroke:#000000; stroke-width:3.5; stroke-opacity:0.1; fill:none\" points=\"\n",
       "  1691.08,1900.72 1691.08,82.6772 \n",
       "  \"/>\n",
       "<polyline clip-path=\"url(#clip752)\" style=\"stroke:#000000; stroke-width:3.5; stroke-opacity:0.1; fill:none\" points=\"\n",
       "  2169.74,1900.72 2169.74,82.6772 \n",
       "  \"/>\n",
       "<polyline clip-path=\"url(#clip752)\" style=\"stroke:#000000; stroke-width:3.5; stroke-opacity:0.1; fill:none\" points=\"\n",
       "  2648.4,1900.72 2648.4,82.6772 \n",
       "  \"/>\n",
       "<polyline clip-path=\"url(#clip750)\" style=\"stroke:#000000; stroke-width:7; stroke-opacity:1; fill:none\" points=\"\n",
       "  281.922,1900.72 2717.32,1900.72 \n",
       "  \"/>\n",
       "<polyline clip-path=\"url(#clip750)\" style=\"stroke:#000000; stroke-width:7; stroke-opacity:1; fill:none\" points=\"\n",
       "  733.773,1900.72 733.773,1878.91 \n",
       "  \"/>\n",
       "<polyline clip-path=\"url(#clip750)\" style=\"stroke:#000000; stroke-width:7; stroke-opacity:1; fill:none\" points=\"\n",
       "  1212.43,1900.72 1212.43,1878.91 \n",
       "  \"/>\n",
       "<polyline clip-path=\"url(#clip750)\" style=\"stroke:#000000; stroke-width:7; stroke-opacity:1; fill:none\" points=\"\n",
       "  1691.08,1900.72 1691.08,1878.91 \n",
       "  \"/>\n",
       "<polyline clip-path=\"url(#clip750)\" style=\"stroke:#000000; stroke-width:7; stroke-opacity:1; fill:none\" points=\"\n",
       "  2169.74,1900.72 2169.74,1878.91 \n",
       "  \"/>\n",
       "<polyline clip-path=\"url(#clip750)\" style=\"stroke:#000000; stroke-width:7; stroke-opacity:1; fill:none\" points=\"\n",
       "  2648.4,1900.72 2648.4,1878.91 \n",
       "  \"/>\n",
       "<path clip-path=\"url(#clip750)\" d=\"M 0 0 M702.297 1940.61 Q695.978 1940.61 692.778 1946.85 Q689.618 1953.04 689.618 1965.52 Q689.618 1977.96 692.778 1984.2 Q695.978 1990.39 702.297 1990.39 Q708.657 1990.39 711.817 1984.2 Q715.017 1977.96 715.017 1965.52 Q715.017 1953.04 711.817 1946.85 Q708.657 1940.61 702.297 1940.61 M702.297 1934.13 Q712.465 1934.13 717.812 1942.19 Q723.2 1950.21 723.2 1965.52 Q723.2 1980.79 717.812 1988.85 Q712.465 1996.87 702.297 1996.87 Q692.13 1996.87 686.742 1988.85 Q681.395 1980.79 681.395 1965.52 Q681.395 1950.21 686.742 1942.19 Q692.13 1934.13 702.297 1934.13 Z\" fill=\"#000000\" fill-rule=\"evenodd\" fill-opacity=\"1\" /><path clip-path=\"url(#clip750)\" d=\"M 0 0 M732.072 1985.41 L740.619 1985.41 L740.619 1995.7 L732.072 1995.7 L732.072 1985.41 Z\" fill=\"#000000\" fill-rule=\"evenodd\" fill-opacity=\"1\" /><path clip-path=\"url(#clip750)\" d=\"M 0 0 M749.571 1935.22 L781.695 1935.22 L781.695 1942.11 L757.066 1942.11 L757.066 1956.93 Q758.848 1956.32 760.63 1956.04 Q762.413 1955.72 764.195 1955.72 Q774.322 1955.72 780.237 1961.27 Q786.151 1966.82 786.151 1976.3 Q786.151 1986.06 780.075 1991.49 Q773.998 1996.87 762.939 1996.87 Q759.132 1996.87 755.162 1996.23 Q751.232 1995.58 747.019 1994.28 L747.019 1986.06 Q750.665 1988.04 754.554 1989.02 Q758.443 1989.99 762.777 1989.99 Q769.785 1989.99 773.877 1986.3 Q777.968 1982.62 777.968 1976.3 Q777.968 1969.98 773.877 1966.29 Q769.785 1962.6 762.777 1962.6 Q759.496 1962.6 756.215 1963.33 Q752.974 1964.06 749.571 1965.6 L749.571 1935.22 Z\" fill=\"#000000\" fill-rule=\"evenodd\" fill-opacity=\"1\" /><path clip-path=\"url(#clip750)\" d=\"M 0 0 M1163.25 1988.81 L1176.62 1988.81 L1176.62 1942.67 L1162.08 1945.59 L1162.08 1938.14 L1176.54 1935.22 L1184.72 1935.22 L1184.72 1988.81 L1198.09 1988.81 L1198.09 1995.7 L1163.25 1995.7 L1163.25 1988.81 Z\" fill=\"#000000\" fill-rule=\"evenodd\" fill-opacity=\"1\" /><path clip-path=\"url(#clip750)\" d=\"M 0 0 M1206.96 1985.41 L1215.51 1985.41 L1215.51 1995.7 L1206.96 1995.7 L1206.96 1985.41 Z\" fill=\"#000000\" fill-rule=\"evenodd\" fill-opacity=\"1\" /><path clip-path=\"url(#clip750)\" d=\"M 0 0 M1241.88 1940.61 Q1235.56 1940.61 1232.36 1946.85 Q1229.2 1953.04 1229.2 1965.52 Q1229.2 1977.96 1232.36 1984.2 Q1235.56 1990.39 1241.88 1990.39 Q1248.24 1990.39 1251.4 1984.2 Q1254.6 1977.96 1254.6 1965.52 Q1254.6 1953.04 1251.4 1946.85 Q1248.24 1940.61 1241.88 1940.61 M1241.88 1934.13 Q1252.05 1934.13 1257.39 1942.19 Q1262.78 1950.21 1262.78 1965.52 Q1262.78 1980.79 1257.39 1988.85 Q1252.05 1996.87 1241.88 1996.87 Q1231.71 1996.87 1226.32 1988.85 Q1220.98 1980.79 1220.98 1965.52 Q1220.98 1950.21 1226.32 1942.19 Q1231.71 1934.13 1241.88 1934.13 Z\" fill=\"#000000\" fill-rule=\"evenodd\" fill-opacity=\"1\" /><path clip-path=\"url(#clip750)\" d=\"M 0 0 M1642.78 1988.81 L1656.15 1988.81 L1656.15 1942.67 L1641.6 1945.59 L1641.6 1938.14 L1656.06 1935.22 L1664.25 1935.22 L1664.25 1988.81 L1677.62 1988.81 L1677.62 1995.7 L1642.78 1995.7 L1642.78 1988.81 Z\" fill=\"#000000\" fill-rule=\"evenodd\" fill-opacity=\"1\" /><path clip-path=\"url(#clip750)\" d=\"M 0 0 M1686.49 1985.41 L1695.03 1985.41 L1695.03 1995.7 L1686.49 1995.7 L1686.49 1985.41 Z\" fill=\"#000000\" fill-rule=\"evenodd\" fill-opacity=\"1\" /><path clip-path=\"url(#clip750)\" d=\"M 0 0 M1703.99 1935.22 L1736.11 1935.22 L1736.11 1942.11 L1711.48 1942.11 L1711.48 1956.93 Q1713.26 1956.32 1715.05 1956.04 Q1716.83 1955.72 1718.61 1955.72 Q1728.74 1955.72 1734.65 1961.27 Q1740.57 1966.82 1740.57 1976.3 Q1740.57 1986.06 1734.49 1991.49 Q1728.41 1996.87 1717.35 1996.87 Q1713.55 1996.87 1709.58 1996.23 Q1705.65 1995.58 1701.43 1994.28 L1701.43 1986.06 Q1705.08 1988.04 1708.97 1989.02 Q1712.86 1989.99 1717.19 1989.99 Q1724.2 1989.99 1728.29 1986.3 Q1732.38 1982.62 1732.38 1976.3 Q1732.38 1969.98 1728.29 1966.29 Q1724.2 1962.6 1717.19 1962.6 Q1713.91 1962.6 1710.63 1963.33 Q1707.39 1964.06 1703.99 1965.6 L1703.99 1935.22 Z\" fill=\"#000000\" fill-rule=\"evenodd\" fill-opacity=\"1\" /><path clip-path=\"url(#clip750)\" d=\"M 0 0 M2128.04 1988.81 L2156.6 1988.81 L2156.6 1995.7 L2118.19 1995.7 L2118.19 1988.81 Q2122.85 1983.99 2130.87 1975.89 Q2138.93 1967.75 2141 1965.4 Q2144.93 1960.98 2146.47 1957.95 Q2148.05 1954.87 2148.05 1951.91 Q2148.05 1947.09 2144.65 1944.05 Q2141.28 1941.01 2135.85 1941.01 Q2132.01 1941.01 2127.71 1942.35 Q2123.46 1943.69 2118.6 1946.4 L2118.6 1938.14 Q2123.54 1936.15 2127.83 1935.14 Q2132.13 1934.13 2135.69 1934.13 Q2145.09 1934.13 2150.68 1938.83 Q2156.27 1943.52 2156.27 1951.38 Q2156.27 1955.11 2154.85 1958.47 Q2153.48 1961.79 2149.79 1966.33 Q2148.78 1967.51 2143.35 1973.14 Q2137.92 1978.73 2128.04 1988.81 Z\" fill=\"#000000\" fill-rule=\"evenodd\" fill-opacity=\"1\" /><path clip-path=\"url(#clip750)\" d=\"M 0 0 M2165.47 1985.41 L2174.01 1985.41 L2174.01 1995.7 L2165.47 1995.7 L2165.47 1985.41 Z\" fill=\"#000000\" fill-rule=\"evenodd\" fill-opacity=\"1\" /><path clip-path=\"url(#clip750)\" d=\"M 0 0 M2200.39 1940.61 Q2194.07 1940.61 2190.87 1946.85 Q2187.71 1953.04 2187.71 1965.52 Q2187.71 1977.96 2190.87 1984.2 Q2194.07 1990.39 2200.39 1990.39 Q2206.75 1990.39 2209.91 1984.2 Q2213.11 1977.96 2213.11 1965.52 Q2213.11 1953.04 2209.91 1946.85 Q2206.75 1940.61 2200.39 1940.61 M2200.39 1934.13 Q2210.55 1934.13 2215.9 1942.19 Q2221.29 1950.21 2221.29 1965.52 Q2221.29 1980.79 2215.9 1988.85 Q2210.55 1996.87 2200.39 1996.87 Q2190.22 1996.87 2184.83 1988.85 Q2179.48 1980.79 2179.48 1965.52 Q2179.48 1950.21 2184.83 1942.19 Q2190.22 1934.13 2200.39 1934.13 Z\" fill=\"#000000\" fill-rule=\"evenodd\" fill-opacity=\"1\" /><path clip-path=\"url(#clip750)\" d=\"M 0 0 M2607.56 1988.81 L2636.12 1988.81 L2636.12 1995.7 L2597.72 1995.7 L2597.72 1988.81 Q2602.38 1983.99 2610.4 1975.89 Q2618.46 1967.75 2620.53 1965.4 Q2624.46 1960.98 2625.99 1957.95 Q2627.57 1954.87 2627.57 1951.91 Q2627.57 1947.09 2624.17 1944.05 Q2620.81 1941.01 2615.38 1941.01 Q2611.53 1941.01 2607.24 1942.35 Q2602.99 1943.69 2598.12 1946.4 L2598.12 1938.14 Q2603.07 1936.15 2607.36 1935.14 Q2611.65 1934.13 2615.22 1934.13 Q2624.62 1934.13 2630.21 1938.83 Q2635.8 1943.52 2635.8 1951.38 Q2635.8 1955.11 2634.38 1958.47 Q2633 1961.79 2629.32 1966.33 Q2628.3 1967.51 2622.88 1973.14 Q2617.45 1978.73 2607.56 1988.81 Z\" fill=\"#000000\" fill-rule=\"evenodd\" fill-opacity=\"1\" /><path clip-path=\"url(#clip750)\" d=\"M 0 0 M2644.99 1985.41 L2653.54 1985.41 L2653.54 1995.7 L2644.99 1995.7 L2644.99 1985.41 Z\" fill=\"#000000\" fill-rule=\"evenodd\" fill-opacity=\"1\" /><path clip-path=\"url(#clip750)\" d=\"M 0 0 M2662.49 1935.22 L2694.62 1935.22 L2694.62 1942.11 L2669.99 1942.11 L2669.99 1956.93 Q2671.77 1956.32 2673.55 1956.04 Q2675.33 1955.72 2677.12 1955.72 Q2687.24 1955.72 2693.16 1961.27 Q2699.07 1966.82 2699.07 1976.3 Q2699.07 1986.06 2693 1991.49 Q2686.92 1996.87 2675.86 1996.87 Q2672.05 1996.87 2668.08 1996.23 Q2664.15 1995.58 2659.94 1994.28 L2659.94 1986.06 Q2663.59 1988.04 2667.48 1989.02 Q2671.37 1989.99 2675.7 1989.99 Q2682.71 1989.99 2686.8 1986.3 Q2690.89 1982.62 2690.89 1976.3 Q2690.89 1969.98 2686.8 1966.29 Q2682.71 1962.6 2675.7 1962.6 Q2672.42 1962.6 2669.14 1963.33 Q2665.9 1964.06 2662.49 1965.6 L2662.49 1935.22 Z\" fill=\"#000000\" fill-rule=\"evenodd\" fill-opacity=\"1\" /><polyline clip-path=\"url(#clip752)\" style=\"stroke:#000000; stroke-width:3.5; stroke-opacity:0.1; fill:none\" points=\"\n",
       "  281.922,1602.67 2717.32,1602.67 \n",
       "  \"/>\n",
       "<polyline clip-path=\"url(#clip752)\" style=\"stroke:#000000; stroke-width:3.5; stroke-opacity:0.1; fill:none\" points=\"\n",
       "  281.922,1194.74 2717.32,1194.74 \n",
       "  \"/>\n",
       "<polyline clip-path=\"url(#clip752)\" style=\"stroke:#000000; stroke-width:3.5; stroke-opacity:0.1; fill:none\" points=\"\n",
       "  281.922,786.814 2717.32,786.814 \n",
       "  \"/>\n",
       "<polyline clip-path=\"url(#clip752)\" style=\"stroke:#000000; stroke-width:3.5; stroke-opacity:0.1; fill:none\" points=\"\n",
       "  281.922,378.887 2717.32,378.887 \n",
       "  \"/>\n",
       "<polyline clip-path=\"url(#clip750)\" style=\"stroke:#000000; stroke-width:7; stroke-opacity:1; fill:none\" points=\"\n",
       "  281.922,1900.72 281.922,82.6772 \n",
       "  \"/>\n",
       "<polyline clip-path=\"url(#clip750)\" style=\"stroke:#000000; stroke-width:7; stroke-opacity:1; fill:none\" points=\"\n",
       "  281.922,1602.67 311.147,1602.67 \n",
       "  \"/>\n",
       "<polyline clip-path=\"url(#clip750)\" style=\"stroke:#000000; stroke-width:7; stroke-opacity:1; fill:none\" points=\"\n",
       "  281.922,1194.74 311.147,1194.74 \n",
       "  \"/>\n",
       "<polyline clip-path=\"url(#clip750)\" style=\"stroke:#000000; stroke-width:7; stroke-opacity:1; fill:none\" points=\"\n",
       "  281.922,786.814 311.147,786.814 \n",
       "  \"/>\n",
       "<polyline clip-path=\"url(#clip750)\" style=\"stroke:#000000; stroke-width:7; stroke-opacity:1; fill:none\" points=\"\n",
       "  281.922,378.887 311.147,378.887 \n",
       "  \"/>\n",
       "<path clip-path=\"url(#clip750)\" d=\"M 0 0 M96.2362 1603.46 L148.169 1603.46 L148.169 1610.34 L96.2362 1610.34 L96.2362 1603.46 Z\" fill=\"#000000\" fill-rule=\"evenodd\" fill-opacity=\"1\" /><path clip-path=\"url(#clip750)\" d=\"M 0 0 M164.089 1626.02 L192.648 1626.02 L192.648 1632.91 L154.245 1632.91 L154.245 1626.02 Q158.904 1621.2 166.924 1613.1 Q174.986 1604.96 177.052 1602.61 Q180.981 1598.19 182.52 1595.15 Q184.1 1592.07 184.1 1589.12 Q184.1 1584.3 180.698 1581.26 Q177.335 1578.22 171.907 1578.22 Q168.059 1578.22 163.765 1579.56 Q159.511 1580.89 154.65 1583.61 L154.65 1575.34 Q159.592 1573.36 163.886 1572.35 Q168.18 1571.33 171.745 1571.33 Q181.143 1571.33 186.733 1576.03 Q192.324 1580.73 192.324 1588.59 Q192.324 1592.32 190.906 1595.68 Q189.529 1599 185.842 1603.54 Q184.829 1604.71 179.401 1610.34 Q173.973 1615.93 164.089 1626.02 Z\" fill=\"#000000\" fill-rule=\"evenodd\" fill-opacity=\"1\" /><path clip-path=\"url(#clip750)\" d=\"M 0 0 M219.019 1577.82 Q212.7 1577.82 209.5 1584.05 Q206.34 1590.25 206.34 1602.73 Q206.34 1615.16 209.5 1621.4 Q212.7 1627.6 219.019 1627.6 Q225.379 1627.6 228.539 1621.4 Q231.739 1615.16 231.739 1602.73 Q231.739 1590.25 228.539 1584.05 Q225.379 1577.82 219.019 1577.82 M219.019 1571.33 Q229.187 1571.33 234.534 1579.4 Q239.922 1587.42 239.922 1602.73 Q239.922 1618 234.534 1626.06 Q229.187 1634.08 219.019 1634.08 Q208.851 1634.08 203.464 1626.06 Q198.116 1618 198.116 1602.73 Q198.116 1587.42 203.464 1579.4 Q208.851 1571.33 219.019 1571.33 Z\" fill=\"#000000\" fill-rule=\"evenodd\" fill-opacity=\"1\" /><path clip-path=\"url(#clip750)\" d=\"M 0 0 M219.019 1169.89 Q212.7 1169.89 209.5 1176.13 Q206.34 1182.33 206.34 1194.8 Q206.34 1207.24 209.5 1213.48 Q212.7 1219.67 219.019 1219.67 Q225.379 1219.67 228.539 1213.48 Q231.739 1207.24 231.739 1194.8 Q231.739 1182.33 228.539 1176.13 Q225.379 1169.89 219.019 1169.89 M219.019 1163.41 Q229.187 1163.41 234.534 1171.47 Q239.922 1179.49 239.922 1194.8 Q239.922 1210.07 234.534 1218.14 Q229.187 1226.16 219.019 1226.16 Q208.851 1226.16 203.464 1218.14 Q198.116 1210.07 198.116 1194.8 Q198.116 1179.49 203.464 1171.47 Q208.851 1163.41 219.019 1163.41 Z\" fill=\"#000000\" fill-rule=\"evenodd\" fill-opacity=\"1\" /><path clip-path=\"url(#clip750)\" d=\"M 0 0 M164.089 810.168 L192.648 810.168 L192.648 817.054 L154.245 817.054 L154.245 810.168 Q158.904 805.347 166.924 797.245 Q174.986 789.103 177.052 786.753 Q180.981 782.338 182.52 779.3 Q184.1 776.221 184.1 773.264 Q184.1 768.443 180.698 765.405 Q177.335 762.367 171.907 762.367 Q168.059 762.367 163.765 763.704 Q159.511 765.041 154.65 767.755 L154.65 759.491 Q159.592 757.506 163.886 756.493 Q168.18 755.48 171.745 755.48 Q181.143 755.48 186.733 760.18 Q192.324 764.879 192.324 772.737 Q192.324 776.464 190.906 779.826 Q189.529 783.148 185.842 787.685 Q184.829 788.86 179.401 794.491 Q173.973 800.081 164.089 810.168 Z\" fill=\"#000000\" fill-rule=\"evenodd\" fill-opacity=\"1\" /><path clip-path=\"url(#clip750)\" d=\"M 0 0 M219.019 761.962 Q212.7 761.962 209.5 768.2 Q206.34 774.398 206.34 786.875 Q206.34 799.311 209.5 805.55 Q212.7 811.748 219.019 811.748 Q225.379 811.748 228.539 805.55 Q231.739 799.311 231.739 786.875 Q231.739 774.398 228.539 768.2 Q225.379 761.962 219.019 761.962 M219.019 755.48 Q229.187 755.48 234.534 763.542 Q239.922 771.563 239.922 786.875 Q239.922 802.147 234.534 810.208 Q229.187 818.229 219.019 818.229 Q208.851 818.229 203.464 810.208 Q198.116 802.147 198.116 786.875 Q198.116 771.563 203.464 763.542 Q208.851 755.48 219.019 755.48 Z\" fill=\"#000000\" fill-rule=\"evenodd\" fill-opacity=\"1\" /><path clip-path=\"url(#clip750)\" d=\"M 0 0 M175.877 355.777 L155.217 388.063 L175.877 388.063 L175.877 355.777 M173.73 348.647 L184.019 348.647 L184.019 388.063 L192.648 388.063 L192.648 394.868 L184.019 394.868 L184.019 409.127 L175.877 409.127 L175.877 394.868 L148.574 394.868 L148.574 386.969 L173.73 348.647 Z\" fill=\"#000000\" fill-rule=\"evenodd\" fill-opacity=\"1\" /><path clip-path=\"url(#clip750)\" d=\"M 0 0 M219.019 354.035 Q212.7 354.035 209.5 360.273 Q206.34 366.471 206.34 378.948 Q206.34 391.384 209.5 397.623 Q212.7 403.821 219.019 403.821 Q225.379 403.821 228.539 397.623 Q231.739 391.384 231.739 378.948 Q231.739 366.471 228.539 360.273 Q225.379 354.035 219.019 354.035 M219.019 347.554 Q229.187 347.554 234.534 355.615 Q239.922 363.636 239.922 378.948 Q239.922 394.22 234.534 402.281 Q229.187 410.302 219.019 410.302 Q208.851 410.302 203.464 402.281 Q198.116 394.22 198.116 378.948 Q198.116 363.636 203.464 355.615 Q208.851 347.554 219.019 347.554 Z\" fill=\"#000000\" fill-rule=\"evenodd\" fill-opacity=\"1\" /><polyline clip-path=\"url(#clip752)\" style=\"stroke:#0000ff; stroke-width:7; stroke-opacity:1; fill:none\" points=\"\n",
       "  350.848,1354.65 446.579,1409.31 542.311,1424.81 542.311,1424.81 638.042,1406.05 733.773,1357.91 829.504,1285.3 \n",
       "  925.235,1193.11 1020.97,1086.23 1116.7,969.565 1212.43,848.003 1308.16,726.441 \n",
       "  1403.89,609.774 1403.89,609.774 1499.62,502.897 1595.35,410.706 1595.35,410.706 1691.08,338.095 1786.82,289.959 \n",
       "  1882.55,271.195 1978.28,286.696 2074.01,341.358 2169.74,440.076 2265.47,587.746 2361.2,789.262 2456.93,1049.52 2552.67,1373.41 2648.4,1765.84 \n",
       "  \n",
       "  \"/>\n",
       "<circle clip-path=\"url(#clip752)\" cx=\"350.848\" cy=\"1124.9\" r=\"18\" fill=\"#ffa500\" fill-rule=\"evenodd\" fill-opacity=\"1\" stroke=\"#000000\" stroke-opacity=\"1\" stroke-width=\"0\"/>\n",
       "<circle clip-path=\"url(#clip752)\" cx=\"446.579\" cy=\"1117.4\" r=\"18\" fill=\"#ffa500\" fill-rule=\"evenodd\" fill-opacity=\"1\" stroke=\"#000000\" stroke-opacity=\"1\" stroke-width=\"0\"/>\n",
       "<circle clip-path=\"url(#clip752)\" cx=\"446.579\" cy=\"1117.4\" r=\"18\" fill=\"#ffa500\" fill-rule=\"evenodd\" fill-opacity=\"1\" stroke=\"#000000\" stroke-opacity=\"1\" stroke-width=\"0\"/>\n",
       "<circle clip-path=\"url(#clip752)\" cx=\"542.311\" cy=\"1128.49\" r=\"18\" fill=\"#ffa500\" fill-rule=\"evenodd\" fill-opacity=\"1\" stroke=\"#000000\" stroke-opacity=\"1\" stroke-width=\"0\"/>\n",
       "<circle clip-path=\"url(#clip752)\" cx=\"542.311\" cy=\"1128.49\" r=\"18\" fill=\"#ffa500\" fill-rule=\"evenodd\" fill-opacity=\"1\" stroke=\"#000000\" stroke-opacity=\"1\" stroke-width=\"0\"/>\n",
       "<circle clip-path=\"url(#clip752)\" cx=\"638.042\" cy=\"1155.25\" r=\"18\" fill=\"#ffa500\" fill-rule=\"evenodd\" fill-opacity=\"1\" stroke=\"#000000\" stroke-opacity=\"1\" stroke-width=\"0\"/>\n",
       "<circle clip-path=\"url(#clip752)\" cx=\"638.042\" cy=\"1155.25\" r=\"18\" fill=\"#ffa500\" fill-rule=\"evenodd\" fill-opacity=\"1\" stroke=\"#000000\" stroke-opacity=\"1\" stroke-width=\"0\"/>\n",
       "<circle clip-path=\"url(#clip752)\" cx=\"733.773\" cy=\"1194.74\" r=\"18\" fill=\"#ffa500\" fill-rule=\"evenodd\" fill-opacity=\"1\" stroke=\"#000000\" stroke-opacity=\"1\" stroke-width=\"0\"/>\n",
       "<circle clip-path=\"url(#clip752)\" cx=\"733.773\" cy=\"1194.74\" r=\"18\" fill=\"#ffa500\" fill-rule=\"evenodd\" fill-opacity=\"1\" stroke=\"#000000\" stroke-opacity=\"1\" stroke-width=\"0\"/>\n",
       "<circle clip-path=\"url(#clip752)\" cx=\"829.504\" cy=\"1244.02\" r=\"18\" fill=\"#ffa500\" fill-rule=\"evenodd\" fill-opacity=\"1\" stroke=\"#000000\" stroke-opacity=\"1\" stroke-width=\"0\"/>\n",
       "<circle clip-path=\"url(#clip752)\" cx=\"829.504\" cy=\"1244.02\" r=\"18\" fill=\"#ffa500\" fill-rule=\"evenodd\" fill-opacity=\"1\" stroke=\"#000000\" stroke-opacity=\"1\" stroke-width=\"0\"/>\n",
       "<circle clip-path=\"url(#clip752)\" cx=\"925.235\" cy=\"1300.15\" r=\"18\" fill=\"#ffa500\" fill-rule=\"evenodd\" fill-opacity=\"1\" stroke=\"#000000\" stroke-opacity=\"1\" stroke-width=\"0\"/>\n",
       "<circle clip-path=\"url(#clip752)\" cx=\"925.235\" cy=\"1300.15\" r=\"18\" fill=\"#ffa500\" fill-rule=\"evenodd\" fill-opacity=\"1\" stroke=\"#000000\" stroke-opacity=\"1\" stroke-width=\"0\"/>\n",
       "<circle clip-path=\"url(#clip752)\" cx=\"1020.97\" cy=\"1360.2\" r=\"18\" fill=\"#ffa500\" fill-rule=\"evenodd\" fill-opacity=\"1\" stroke=\"#000000\" stroke-opacity=\"1\" stroke-width=\"0\"/>\n",
       "<circle clip-path=\"url(#clip752)\" cx=\"1020.97\" cy=\"1360.2\" r=\"18\" fill=\"#ffa500\" fill-rule=\"evenodd\" fill-opacity=\"1\" stroke=\"#000000\" stroke-opacity=\"1\" stroke-width=\"0\"/>\n",
       "<circle clip-path=\"url(#clip752)\" cx=\"1116.7\" cy=\"1421.22\" r=\"18\" fill=\"#ffa500\" fill-rule=\"evenodd\" fill-opacity=\"1\" stroke=\"#000000\" stroke-opacity=\"1\" stroke-width=\"0\"/>\n",
       "<circle clip-path=\"url(#clip752)\" cx=\"1116.7\" cy=\"1421.22\" r=\"18\" fill=\"#ffa500\" fill-rule=\"evenodd\" fill-opacity=\"1\" stroke=\"#000000\" stroke-opacity=\"1\" stroke-width=\"0\"/>\n",
       "<circle clip-path=\"url(#clip752)\" cx=\"1212.43\" cy=\"1480.29\" r=\"18\" fill=\"#ffa500\" fill-rule=\"evenodd\" fill-opacity=\"1\" stroke=\"#000000\" stroke-opacity=\"1\" stroke-width=\"0\"/>\n",
       "<circle clip-path=\"url(#clip752)\" cx=\"1212.43\" cy=\"1480.29\" r=\"18\" fill=\"#ffa500\" fill-rule=\"evenodd\" fill-opacity=\"1\" stroke=\"#000000\" stroke-opacity=\"1\" stroke-width=\"0\"/>\n",
       "<circle clip-path=\"url(#clip752)\" cx=\"1308.16\" cy=\"1534.46\" r=\"18\" fill=\"#ffa500\" fill-rule=\"evenodd\" fill-opacity=\"1\" stroke=\"#000000\" stroke-opacity=\"1\" stroke-width=\"0\"/>\n",
       "<circle clip-path=\"url(#clip752)\" cx=\"1308.16\" cy=\"1534.46\" r=\"18\" fill=\"#ffa500\" fill-rule=\"evenodd\" fill-opacity=\"1\" stroke=\"#000000\" stroke-opacity=\"1\" stroke-width=\"0\"/>\n",
       "<circle clip-path=\"url(#clip752)\" cx=\"1403.89\" cy=\"1580.8\" r=\"18\" fill=\"#ffa500\" fill-rule=\"evenodd\" fill-opacity=\"1\" stroke=\"#000000\" stroke-opacity=\"1\" stroke-width=\"0\"/>\n",
       "<circle clip-path=\"url(#clip752)\" cx=\"1403.89\" cy=\"1580.8\" r=\"18\" fill=\"#ffa500\" fill-rule=\"evenodd\" fill-opacity=\"1\" stroke=\"#000000\" stroke-opacity=\"1\" stroke-width=\"0\"/>\n",
       "<circle clip-path=\"url(#clip752)\" cx=\"1499.62\" cy=\"1616.37\" r=\"18\" fill=\"#ffa500\" fill-rule=\"evenodd\" fill-opacity=\"1\" stroke=\"#000000\" stroke-opacity=\"1\" stroke-width=\"0\"/>\n",
       "<circle clip-path=\"url(#clip752)\" cx=\"1499.62\" cy=\"1616.37\" r=\"18\" fill=\"#ffa500\" fill-rule=\"evenodd\" fill-opacity=\"1\" stroke=\"#000000\" stroke-opacity=\"1\" stroke-width=\"0\"/>\n",
       "<circle clip-path=\"url(#clip752)\" cx=\"1595.35\" cy=\"1638.24\" r=\"18\" fill=\"#ffa500\" fill-rule=\"evenodd\" fill-opacity=\"1\" stroke=\"#000000\" stroke-opacity=\"1\" stroke-width=\"0\"/>\n",
       "<circle clip-path=\"url(#clip752)\" cx=\"1595.35\" cy=\"1638.24\" r=\"18\" fill=\"#ffa500\" fill-rule=\"evenodd\" fill-opacity=\"1\" stroke=\"#000000\" stroke-opacity=\"1\" stroke-width=\"0\"/>\n",
       "<circle clip-path=\"url(#clip752)\" cx=\"1691.08\" cy=\"1643.46\" r=\"18\" fill=\"#ffa500\" fill-rule=\"evenodd\" fill-opacity=\"1\" stroke=\"#000000\" stroke-opacity=\"1\" stroke-width=\"0\"/>\n",
       "<circle clip-path=\"url(#clip752)\" cx=\"1691.08\" cy=\"1643.46\" r=\"18\" fill=\"#ffa500\" fill-rule=\"evenodd\" fill-opacity=\"1\" stroke=\"#000000\" stroke-opacity=\"1\" stroke-width=\"0\"/>\n",
       "<circle clip-path=\"url(#clip752)\" cx=\"1786.82\" cy=\"1629.1\" r=\"18\" fill=\"#ffa500\" fill-rule=\"evenodd\" fill-opacity=\"1\" stroke=\"#000000\" stroke-opacity=\"1\" stroke-width=\"0\"/>\n",
       "<circle clip-path=\"url(#clip752)\" cx=\"1786.82\" cy=\"1629.1\" r=\"18\" fill=\"#ffa500\" fill-rule=\"evenodd\" fill-opacity=\"1\" stroke=\"#000000\" stroke-opacity=\"1\" stroke-width=\"0\"/>\n",
       "<circle clip-path=\"url(#clip752)\" cx=\"1882.55\" cy=\"1592.22\" r=\"18\" fill=\"#ffa500\" fill-rule=\"evenodd\" fill-opacity=\"1\" stroke=\"#000000\" stroke-opacity=\"1\" stroke-width=\"0\"/>\n",
       "<circle clip-path=\"url(#clip752)\" cx=\"1978.28\" cy=\"1529.89\" r=\"18\" fill=\"#ffa500\" fill-rule=\"evenodd\" fill-opacity=\"1\" stroke=\"#000000\" stroke-opacity=\"1\" stroke-width=\"0\"/>\n",
       "<circle clip-path=\"url(#clip752)\" cx=\"2074.01\" cy=\"1439.17\" r=\"18\" fill=\"#ffa500\" fill-rule=\"evenodd\" fill-opacity=\"1\" stroke=\"#000000\" stroke-opacity=\"1\" stroke-width=\"0\"/>\n",
       "<circle clip-path=\"url(#clip752)\" cx=\"2169.74\" cy=\"1317.12\" r=\"18\" fill=\"#ffa500\" fill-rule=\"evenodd\" fill-opacity=\"1\" stroke=\"#000000\" stroke-opacity=\"1\" stroke-width=\"0\"/>\n",
       "<circle clip-path=\"url(#clip752)\" cx=\"2265.47\" cy=\"1160.8\" r=\"18\" fill=\"#ffa500\" fill-rule=\"evenodd\" fill-opacity=\"1\" stroke=\"#000000\" stroke-opacity=\"1\" stroke-width=\"0\"/>\n",
       "<circle clip-path=\"url(#clip752)\" cx=\"2361.2\" cy=\"967.281\" r=\"18\" fill=\"#ffa500\" fill-rule=\"evenodd\" fill-opacity=\"1\" stroke=\"#000000\" stroke-opacity=\"1\" stroke-width=\"0\"/>\n",
       "<circle clip-path=\"url(#clip752)\" cx=\"2456.93\" cy=\"733.621\" r=\"18\" fill=\"#ffa500\" fill-rule=\"evenodd\" fill-opacity=\"1\" stroke=\"#000000\" stroke-opacity=\"1\" stroke-width=\"0\"/>\n",
       "<circle clip-path=\"url(#clip752)\" cx=\"2552.67\" cy=\"456.883\" r=\"18\" fill=\"#ffa500\" fill-rule=\"evenodd\" fill-opacity=\"1\" stroke=\"#000000\" stroke-opacity=\"1\" stroke-width=\"0\"/>\n",
       "<circle clip-path=\"url(#clip752)\" cx=\"2648.4\" cy=\"134.131\" r=\"18\" fill=\"#ffa500\" fill-rule=\"evenodd\" fill-opacity=\"1\" stroke=\"#000000\" stroke-opacity=\"1\" stroke-width=\"0\"/>\n",
       "<circle clip-path=\"url(#clip752)\" cx=\"350.848\" cy=\"1461.64\" r=\"18\" fill=\"#000000\" fill-rule=\"evenodd\" fill-opacity=\"1\" stroke=\"none\"/>\n",
       "<circle clip-path=\"url(#clip752)\" cx=\"446.579\" cy=\"1389.53\" r=\"18\" fill=\"#000000\" fill-rule=\"evenodd\" fill-opacity=\"1\" stroke=\"none\"/>\n",
       "<circle clip-path=\"url(#clip752)\" cx=\"542.311\" cy=\"1652.32\" r=\"18\" fill=\"#000000\" fill-rule=\"evenodd\" fill-opacity=\"1\" stroke=\"none\"/>\n",
       "<circle clip-path=\"url(#clip752)\" cx=\"638.042\" cy=\"1337.31\" r=\"18\" fill=\"#000000\" fill-rule=\"evenodd\" fill-opacity=\"1\" stroke=\"none\"/>\n",
       "<circle clip-path=\"url(#clip752)\" cx=\"733.773\" cy=\"1188.58\" r=\"18\" fill=\"#000000\" fill-rule=\"evenodd\" fill-opacity=\"1\" stroke=\"none\"/>\n",
       "<circle clip-path=\"url(#clip752)\" cx=\"829.504\" cy=\"1397.36\" r=\"18\" fill=\"#000000\" fill-rule=\"evenodd\" fill-opacity=\"1\" stroke=\"none\"/>\n",
       "<circle clip-path=\"url(#clip752)\" cx=\"925.235\" cy=\"1234.51\" r=\"18\" fill=\"#000000\" fill-rule=\"evenodd\" fill-opacity=\"1\" stroke=\"none\"/>\n",
       "<circle clip-path=\"url(#clip752)\" cx=\"1020.97\" cy=\"1113.5\" r=\"18\" fill=\"#000000\" fill-rule=\"evenodd\" fill-opacity=\"1\" stroke=\"none\"/>\n",
       "<circle clip-path=\"url(#clip752)\" cx=\"1116.7\" cy=\"992.193\" r=\"18\" fill=\"#000000\" fill-rule=\"evenodd\" fill-opacity=\"1\" stroke=\"none\"/>\n",
       "<circle clip-path=\"url(#clip752)\" cx=\"1212.43\" cy=\"977.538\" r=\"18\" fill=\"#000000\" fill-rule=\"evenodd\" fill-opacity=\"1\" stroke=\"none\"/>\n",
       "<circle clip-path=\"url(#clip752)\" cx=\"1308.16\" cy=\"652.095\" r=\"18\" fill=\"#000000\" fill-rule=\"evenodd\" fill-opacity=\"1\" stroke=\"none\"/>\n",
       "<circle clip-path=\"url(#clip752)\" cx=\"1403.89\" cy=\"603.785\" r=\"18\" fill=\"#000000\" fill-rule=\"evenodd\" fill-opacity=\"1\" stroke=\"none\"/>\n",
       "<circle clip-path=\"url(#clip752)\" cx=\"1499.62\" cy=\"646.048\" r=\"18\" fill=\"#000000\" fill-rule=\"evenodd\" fill-opacity=\"1\" stroke=\"none\"/>\n",
       "<circle clip-path=\"url(#clip752)\" cx=\"1595.35\" cy=\"317.774\" r=\"18\" fill=\"#000000\" fill-rule=\"evenodd\" fill-opacity=\"1\" stroke=\"none\"/>\n",
       "<circle clip-path=\"url(#clip752)\" cx=\"1691.08\" cy=\"445.402\" r=\"18\" fill=\"#000000\" fill-rule=\"evenodd\" fill-opacity=\"1\" stroke=\"none\"/>\n",
       "<circle clip-path=\"url(#clip752)\" cx=\"1786.82\" cy=\"279.01\" r=\"18\" fill=\"#000000\" fill-rule=\"evenodd\" fill-opacity=\"1\" stroke=\"none\"/>\n",
       "<circle clip-path=\"url(#clip752)\" cx=\"1882.55\" cy=\"277.074\" r=\"18\" fill=\"#000000\" fill-rule=\"evenodd\" fill-opacity=\"1\" stroke=\"none\"/>\n",
       "<circle clip-path=\"url(#clip752)\" cx=\"1978.28\" cy=\"363.344\" r=\"18\" fill=\"#000000\" fill-rule=\"evenodd\" fill-opacity=\"1\" stroke=\"none\"/>\n",
       "<circle clip-path=\"url(#clip752)\" cx=\"2074.01\" cy=\"296.064\" r=\"18\" fill=\"#000000\" fill-rule=\"evenodd\" fill-opacity=\"1\" stroke=\"none\"/>\n",
       "<circle clip-path=\"url(#clip752)\" cx=\"2169.74\" cy=\"314.123\" r=\"18\" fill=\"#000000\" fill-rule=\"evenodd\" fill-opacity=\"1\" stroke=\"none\"/>\n",
       "<circle clip-path=\"url(#clip752)\" cx=\"2265.47\" cy=\"555.788\" r=\"18\" fill=\"#000000\" fill-rule=\"evenodd\" fill-opacity=\"1\" stroke=\"none\"/>\n",
       "<circle clip-path=\"url(#clip752)\" cx=\"2361.2\" cy=\"757.745\" r=\"18\" fill=\"#000000\" fill-rule=\"evenodd\" fill-opacity=\"1\" stroke=\"none\"/>\n",
       "<circle clip-path=\"url(#clip752)\" cx=\"2456.93\" cy=\"1207.07\" r=\"18\" fill=\"#000000\" fill-rule=\"evenodd\" fill-opacity=\"1\" stroke=\"none\"/>\n",
       "<circle clip-path=\"url(#clip752)\" cx=\"2552.67\" cy=\"1468.14\" r=\"18\" fill=\"#000000\" fill-rule=\"evenodd\" fill-opacity=\"1\" stroke=\"none\"/>\n",
       "<circle clip-path=\"url(#clip752)\" cx=\"2648.4\" cy=\"1849.27\" r=\"18\" fill=\"#000000\" fill-rule=\"evenodd\" fill-opacity=\"1\" stroke=\"none\"/>\n",
       "<circle clip-path=\"url(#clip752)\" cx=\"446.579\" cy=\"1241.86\" r=\"18\" fill=\"#000000\" fill-rule=\"evenodd\" fill-opacity=\"1\" stroke=\"none\"/>\n",
       "<circle clip-path=\"url(#clip752)\" cx=\"542.311\" cy=\"1293.25\" r=\"18\" fill=\"#000000\" fill-rule=\"evenodd\" fill-opacity=\"1\" stroke=\"none\"/>\n",
       "<circle clip-path=\"url(#clip752)\" cx=\"638.042\" cy=\"1418\" r=\"18\" fill=\"#000000\" fill-rule=\"evenodd\" fill-opacity=\"1\" stroke=\"none\"/>\n",
       "<circle clip-path=\"url(#clip752)\" cx=\"733.773\" cy=\"1388.36\" r=\"18\" fill=\"#000000\" fill-rule=\"evenodd\" fill-opacity=\"1\" stroke=\"none\"/>\n",
       "<circle clip-path=\"url(#clip752)\" cx=\"829.504\" cy=\"1337.04\" r=\"18\" fill=\"#000000\" fill-rule=\"evenodd\" fill-opacity=\"1\" stroke=\"none\"/>\n",
       "<circle clip-path=\"url(#clip752)\" cx=\"925.235\" cy=\"1059.68\" r=\"18\" fill=\"#000000\" fill-rule=\"evenodd\" fill-opacity=\"1\" stroke=\"none\"/>\n",
       "<circle clip-path=\"url(#clip752)\" cx=\"1020.97\" cy=\"1165.73\" r=\"18\" fill=\"#000000\" fill-rule=\"evenodd\" fill-opacity=\"1\" stroke=\"none\"/>\n",
       "<circle clip-path=\"url(#clip752)\" cx=\"1116.7\" cy=\"1045.28\" r=\"18\" fill=\"#000000\" fill-rule=\"evenodd\" fill-opacity=\"1\" stroke=\"none\"/>\n",
       "<circle clip-path=\"url(#clip752)\" cx=\"1212.43\" cy=\"951.877\" r=\"18\" fill=\"#000000\" fill-rule=\"evenodd\" fill-opacity=\"1\" stroke=\"none\"/>\n",
       "<circle clip-path=\"url(#clip752)\" cx=\"1308.16\" cy=\"1028.87\" r=\"18\" fill=\"#000000\" fill-rule=\"evenodd\" fill-opacity=\"1\" stroke=\"none\"/>\n",
       "<circle clip-path=\"url(#clip752)\" cx=\"1403.89\" cy=\"680.373\" r=\"18\" fill=\"#000000\" fill-rule=\"evenodd\" fill-opacity=\"1\" stroke=\"none\"/>\n",
       "<circle clip-path=\"url(#clip752)\" cx=\"1499.62\" cy=\"487.449\" r=\"18\" fill=\"#000000\" fill-rule=\"evenodd\" fill-opacity=\"1\" stroke=\"none\"/>\n",
       "<circle clip-path=\"url(#clip752)\" cx=\"1595.35\" cy=\"583.373\" r=\"18\" fill=\"#000000\" fill-rule=\"evenodd\" fill-opacity=\"1\" stroke=\"none\"/>\n",
       "<circle clip-path=\"url(#clip752)\" cx=\"1691.08\" cy=\"402.358\" r=\"18\" fill=\"#000000\" fill-rule=\"evenodd\" fill-opacity=\"1\" stroke=\"none\"/>\n",
       "<circle clip-path=\"url(#clip752)\" cx=\"1786.82\" cy=\"186.152\" r=\"18\" fill=\"#000000\" fill-rule=\"evenodd\" fill-opacity=\"1\" stroke=\"none\"/>\n",
       "<path clip-path=\"url(#clip750)\" d=\"\n",
       "M2182 566.639 L2636.14 566.639 L2636.14 143.279 L2182 143.279  Z\n",
       "  \" fill=\"#ffffff\" fill-rule=\"evenodd\" fill-opacity=\"1\"/>\n",
       "<polyline clip-path=\"url(#clip750)\" style=\"stroke:#000000; stroke-width:7; stroke-opacity:1; fill:none\" points=\"\n",
       "  2182,566.639 2636.14,566.639 2636.14,143.279 2182,143.279 2182,566.639 \n",
       "  \"/>\n",
       "<polyline clip-path=\"url(#clip750)\" style=\"stroke:#0000ff; stroke-width:7; stroke-opacity:1; fill:none\" points=\"\n",
       "  2209.06,249.119 2371.42,249.119 \n",
       "  \"/>\n",
       "<path clip-path=\"url(#clip750)\" d=\"M 0 0 M2411.44 221.107 L2411.44 233.989 L2426.79 233.989 L2426.79 239.781 L2411.44 239.781 L2411.44 264.411 Q2411.44 269.961 2412.94 271.54 Q2414.48 273.12 2419.14 273.12 L2426.79 273.12 L2426.79 279.359 L2419.14 279.359 Q2410.51 279.359 2407.23 276.159 Q2403.95 272.918 2403.95 264.411 L2403.95 239.781 L2398.48 239.781 L2398.48 233.989 L2403.95 233.989 L2403.95 221.107 L2411.44 221.107 Z\" fill=\"#000000\" fill-rule=\"evenodd\" fill-opacity=\"1\" /><path clip-path=\"url(#clip750)\" d=\"M 0 0 M2460.9 240.956 Q2459.64 240.227 2458.15 239.903 Q2456.69 239.538 2454.91 239.538 Q2448.59 239.538 2445.18 243.67 Q2441.82 247.762 2441.82 255.458 L2441.82 279.359 L2434.33 279.359 L2434.33 233.989 L2441.82 233.989 L2441.82 241.037 Q2444.17 236.905 2447.94 234.92 Q2451.71 232.895 2457.09 232.895 Q2457.86 232.895 2458.79 233.016 Q2459.73 233.097 2460.86 233.3 L2460.9 240.956 Z\" fill=\"#000000\" fill-rule=\"evenodd\" fill-opacity=\"1\" /><path clip-path=\"url(#clip750)\" d=\"M 0 0 M2467.95 261.454 L2467.95 233.989 L2475.4 233.989 L2475.4 261.17 Q2475.4 267.611 2477.91 270.852 Q2480.43 274.052 2485.45 274.052 Q2491.49 274.052 2494.97 270.204 Q2498.49 266.355 2498.49 259.712 L2498.49 233.989 L2505.95 233.989 L2505.95 279.359 L2498.49 279.359 L2498.49 272.391 Q2495.78 276.523 2492.17 278.549 Q2488.61 280.533 2483.87 280.533 Q2476.05 280.533 2472 275.672 Q2467.95 270.811 2467.95 261.454 M2486.71 232.895 L2486.71 232.895 Z\" fill=\"#000000\" fill-rule=\"evenodd\" fill-opacity=\"1\" /><path clip-path=\"url(#clip750)\" d=\"M 0 0 M2521.14 221.107 L2521.14 233.989 L2536.49 233.989 L2536.49 239.781 L2521.14 239.781 L2521.14 264.411 Q2521.14 269.961 2522.64 271.54 Q2524.18 273.12 2528.83 273.12 L2536.49 273.12 L2536.49 279.359 L2528.83 279.359 Q2520.21 279.359 2516.92 276.159 Q2513.64 272.918 2513.64 264.411 L2513.64 239.781 L2508.17 239.781 L2508.17 233.989 L2513.64 233.989 L2513.64 221.107 L2521.14 221.107 Z\" fill=\"#000000\" fill-rule=\"evenodd\" fill-opacity=\"1\" /><path clip-path=\"url(#clip750)\" d=\"M 0 0 M2582.02 251.975 L2582.02 279.359 L2574.57 279.359 L2574.57 252.218 Q2574.57 245.777 2572.06 242.577 Q2569.55 239.376 2564.52 239.376 Q2558.49 239.376 2555 243.225 Q2551.52 247.073 2551.52 253.716 L2551.52 279.359 L2544.03 279.359 L2544.03 216.327 L2551.52 216.327 L2551.52 241.037 Q2554.19 236.946 2557.8 234.92 Q2561.44 232.895 2566.18 232.895 Q2574 232.895 2578.01 237.756 Q2582.02 242.577 2582.02 251.975 Z\" fill=\"#000000\" fill-rule=\"evenodd\" fill-opacity=\"1\" /><circle clip-path=\"url(#clip750)\" cx=\"2290.24\" cy=\"354.959\" r=\"40\" fill=\"#ffa500\" fill-rule=\"evenodd\" fill-opacity=\"1\" stroke=\"#000000\" stroke-opacity=\"1\" stroke-width=\"0\"/>\n",
       "<path clip-path=\"url(#clip750)\" d=\"M 0 0 M2398.48 339.829 L2405.93 339.829 L2405.93 385.199 L2398.48 385.199 L2398.48 339.829 M2398.48 322.167 L2405.93 322.167 L2405.93 331.605 L2398.48 331.605 L2398.48 322.167 Z\" fill=\"#000000\" fill-rule=\"evenodd\" fill-opacity=\"1\" /><path clip-path=\"url(#clip750)\" d=\"M 0 0 M2451.46 357.815 L2451.46 385.199 L2444.01 385.199 L2444.01 358.058 Q2444.01 351.617 2441.5 348.417 Q2438.99 345.216 2433.96 345.216 Q2427.93 345.216 2424.44 349.065 Q2420.96 352.913 2420.96 359.556 L2420.96 385.199 L2413.46 385.199 L2413.46 339.829 L2420.96 339.829 L2420.96 346.877 Q2423.63 342.786 2427.24 340.76 Q2430.88 338.735 2435.62 338.735 Q2443.44 338.735 2447.45 343.596 Q2451.46 348.417 2451.46 357.815 Z\" fill=\"#000000\" fill-rule=\"evenodd\" fill-opacity=\"1\" /><path clip-path=\"url(#clip750)\" d=\"M 0 0 M2459.28 339.829 L2466.73 339.829 L2466.73 385.199 L2459.28 385.199 L2459.28 339.829 M2459.28 322.167 L2466.73 322.167 L2466.73 331.605 L2459.28 331.605 L2459.28 322.167 Z\" fill=\"#000000\" fill-rule=\"evenodd\" fill-opacity=\"1\" /><path clip-path=\"url(#clip750)\" d=\"M 0 0 M2481.92 326.947 L2481.92 339.829 L2497.28 339.829 L2497.28 345.621 L2481.92 345.621 L2481.92 370.251 Q2481.92 375.801 2483.42 377.38 Q2484.96 378.96 2489.62 378.96 L2497.28 378.96 L2497.28 385.199 L2489.62 385.199 Q2480.99 385.199 2477.71 381.999 Q2474.43 378.758 2474.43 370.251 L2474.43 345.621 L2468.96 345.621 L2468.96 339.829 L2474.43 339.829 L2474.43 326.947 L2481.92 326.947 Z\" fill=\"#000000\" fill-rule=\"evenodd\" fill-opacity=\"1\" /><circle clip-path=\"url(#clip750)\" cx=\"2290.24\" cy=\"460.799\" r=\"40\" fill=\"#000000\" fill-rule=\"evenodd\" fill-opacity=\"1\" stroke=\"none\"/>\n",
       "<path clip-path=\"url(#clip750)\" d=\"M 0 0 M2431.57 452.555 L2431.57 428.007 L2439.03 428.007 L2439.03 491.039 L2431.57 491.039 L2431.57 484.233 Q2429.22 488.284 2425.62 490.269 Q2422.05 492.213 2417.03 492.213 Q2408.81 492.213 2403.62 485.651 Q2398.48 479.089 2398.48 468.394 Q2398.48 457.7 2403.62 451.137 Q2408.81 444.575 2417.03 444.575 Q2422.05 444.575 2425.62 446.56 Q2429.22 448.504 2431.57 452.555 M2406.17 468.394 Q2406.17 476.618 2409.54 481.317 Q2412.94 485.975 2418.85 485.975 Q2424.77 485.975 2428.17 481.317 Q2431.57 476.618 2431.57 468.394 Q2431.57 460.171 2428.17 455.512 Q2424.77 450.813 2418.85 450.813 Q2412.94 450.813 2409.54 455.512 Q2406.17 460.171 2406.17 468.394 Z\" fill=\"#000000\" fill-rule=\"evenodd\" fill-opacity=\"1\" /><path clip-path=\"url(#clip750)\" d=\"M 0 0 M2467.46 468.232 Q2458.43 468.232 2454.95 470.298 Q2451.46 472.364 2451.46 477.347 Q2451.46 481.317 2454.05 483.666 Q2456.69 485.975 2461.18 485.975 Q2467.38 485.975 2471.11 481.6 Q2474.88 477.185 2474.88 469.893 L2474.88 468.232 L2467.46 468.232 M2482.33 465.153 L2482.33 491.039 L2474.88 491.039 L2474.88 484.152 Q2472.32 488.284 2468.52 490.269 Q2464.71 492.213 2459.2 492.213 Q2452.23 492.213 2448.1 488.325 Q2444.01 484.395 2444.01 477.833 Q2444.01 470.177 2449.11 466.288 Q2454.26 462.399 2464.43 462.399 L2474.88 462.399 L2474.88 461.67 Q2474.88 456.525 2471.47 453.73 Q2468.11 450.894 2461.99 450.894 Q2458.11 450.894 2454.42 451.826 Q2450.73 452.758 2447.33 454.621 L2447.33 447.735 Q2451.42 446.155 2455.27 445.385 Q2459.12 444.575 2462.76 444.575 Q2472.61 444.575 2477.47 449.679 Q2482.33 454.783 2482.33 465.153 Z\" fill=\"#000000\" fill-rule=\"evenodd\" fill-opacity=\"1\" /><path clip-path=\"url(#clip750)\" d=\"M 0 0 M2497.52 432.787 L2497.52 445.669 L2512.87 445.669 L2512.87 451.461 L2497.52 451.461 L2497.52 476.091 Q2497.52 481.641 2499.02 483.22 Q2500.56 484.8 2505.22 484.8 L2512.87 484.8 L2512.87 491.039 L2505.22 491.039 Q2496.59 491.039 2493.31 487.839 Q2490.03 484.598 2490.03 476.091 L2490.03 451.461 L2484.56 451.461 L2484.56 445.669 L2490.03 445.669 L2490.03 432.787 L2497.52 432.787 Z\" fill=\"#000000\" fill-rule=\"evenodd\" fill-opacity=\"1\" /><path clip-path=\"url(#clip750)\" d=\"M 0 0 M2541.31 468.232 Q2532.28 468.232 2528.79 470.298 Q2525.31 472.364 2525.31 477.347 Q2525.31 481.317 2527.9 483.666 Q2530.54 485.975 2535.03 485.975 Q2541.23 485.975 2544.96 481.6 Q2548.72 477.185 2548.72 469.893 L2548.72 468.232 L2541.31 468.232 M2556.18 465.153 L2556.18 491.039 L2548.72 491.039 L2548.72 484.152 Q2546.17 488.284 2542.36 490.269 Q2538.56 492.213 2533.05 492.213 Q2526.08 492.213 2521.95 488.325 Q2517.86 484.395 2517.86 477.833 Q2517.86 470.177 2522.96 466.288 Q2528.11 462.399 2538.27 462.399 L2548.72 462.399 L2548.72 461.67 Q2548.72 456.525 2545.32 453.73 Q2541.96 450.894 2535.84 450.894 Q2531.95 450.894 2528.27 451.826 Q2524.58 452.758 2521.18 454.621 L2521.18 447.735 Q2525.27 446.155 2529.12 445.385 Q2532.97 444.575 2536.61 444.575 Q2546.46 444.575 2551.32 449.679 Q2556.18 454.783 2556.18 465.153 Z\" fill=\"#000000\" fill-rule=\"evenodd\" fill-opacity=\"1\" /></svg>\n"
      ]
     },
     "execution_count": 11,
     "metadata": {},
     "output_type": "execute_result"
    }
   ],
   "source": [
    "plot()\n",
    "init_plots()"
   ]
  },
  {
   "cell_type": "code",
   "execution_count": null,
   "metadata": {},
   "outputs": [],
   "source": [
    "first_iteration = mgvi_kl_optimize_step(rng,\n",
    "                                        model, data,\n",
    "                                        starting_point;\n",
    "                                        num_residuals=3,\n",
    "                                        jacobian_func=FwdRevADJacobianFunc,\n",
    "                                        residual_sampler=ImplicitResidualSampler,\n",
    "                                        optim_options=Optim.Options(iterations=10, show_trace=true),\n",
    "                                        residual_sampler_options=(;cg_params=(;verbose=true)),\n",
    "                                        )\n",
    "pprintln(hcat(first_iteration.result, true_params))"
   ]
  },
  {
   "cell_type": "code",
   "execution_count": null,
   "metadata": {},
   "outputs": [],
   "source": [
    "plot_iteration = (params, label) -> let\n",
    "    ##error_mat = mgvi_kl_errors(full_model, params)\n",
    "    ##display(error_mat)\n",
    "    ##errors = sqrt.(error_mat[diagind(error_mat)])\n",
    "    ##yerr = abs.(line(common_grid, params+errors) - line(common_grid, params-errors))\n",
    "    ##scatter!(common_grid, line(common_grid, params), markercolor=:green, label=label, yerr=yerr)\n",
    "    for sample in eachcol(params.samples)\n",
    "        scatter!(_common_grid, _mean(Vector(sample)), markercolor=:gray, markeralpha=0.3, markersize=2, label=nothing)\n",
    "    end\n",
    "    scatter!(_common_grid, _mean(params.result), markercolor=:green, label=label)\n",
    "end"
   ]
  },
  {
   "cell_type": "code",
   "execution_count": null,
   "metadata": {},
   "outputs": [],
   "source": [
    "plot()\n",
    "init_plots()\n",
    "plot_iteration(first_iteration, \"first\")"
   ]
  },
  {
   "cell_type": "code",
   "execution_count": null,
   "metadata": {},
   "outputs": [],
   "source": [
    "plot_iteration_light = (params, counter) -> let\n",
    "    scatter!(_common_grid, _mean(params.result), markercolor=:green, markersize=3, markeralpha=2*atan(counter/18)/π, label=nothing)\n",
    "end"
   ]
  },
  {
   "cell_type": "code",
   "execution_count": null,
   "metadata": {},
   "outputs": [],
   "source": [
    "next_iteration = first_iteration\n",
    "for i in 1:3\n",
    "    #pprintln(minimum(next_iteration.optimized))\n",
    "    pprintln(hcat(next_iteration.result, true_params))\n",
    "    new_iteration = mgvi_kl_optimize_step(rng,\n",
    "                                                  model, data,\n",
    "                                                  next_iteration.result;\n",
    "                                                  num_residuals=3,\n",
    "                                                  jacobian_func=FwdRevADJacobianFunc,\n",
    "                                                  residual_sampler=ImplicitResidualSampler,\n",
    "                                                  optim_options=Optim.Options(iterations=10, show_trace=true),\n",
    "                                                  residual_sampler_options=(;cg_params=(;verbose=true)))\n",
    "\n",
    "    global next_iteration = new_iteration\n",
    "end\n",
    "#pprintln(minimum(next_iteration.optimized))\n",
    "pprintln(hcat(next_iteration.result, true_params))"
   ]
  },
  {
   "cell_type": "code",
   "execution_count": null,
   "metadata": {},
   "outputs": [],
   "source": [
    "plot()\n",
    "init_plots()\n",
    "plot_iteration(next_iteration, \"last\")"
   ]
  }
 ],
 "metadata": {
  "kernelspec": {
   "display_name": "Julia 1.5.2",
   "language": "julia",
   "name": "julia-1.5"
  },
  "language_info": {
   "file_extension": ".jl",
   "mimetype": "application/julia",
   "name": "julia",
   "version": "1.5.2"
  }
 },
 "nbformat": 4,
 "nbformat_minor": 3
}
