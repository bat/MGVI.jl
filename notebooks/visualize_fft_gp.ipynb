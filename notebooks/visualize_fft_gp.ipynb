{
 "cells": [
  {
   "cell_type": "code",
   "execution_count": 1,
   "metadata": {},
   "outputs": [],
   "source": [
    "using Revise\n",
    "using MGVInference\n",
    "\n",
    "using Distributions\n",
    "using Random\n",
    "using ValueShapes\n",
    "using LinearAlgebra\n",
    "using Optim"
   ]
  },
  {
   "cell_type": "code",
   "execution_count": 3,
   "metadata": {},
   "outputs": [],
   "source": [
    "include(\"../test/test_models/model_fft_gp.jl\");"
   ]
  },
  {
   "cell_type": "code",
   "execution_count": 4,
   "metadata": {},
   "outputs": [
    {
     "data": {
      "text/plain": [
       "Plots.GRBackend()"
      ]
     },
     "execution_count": 4,
     "metadata": {},
     "output_type": "execute_result"
    }
   ],
   "source": [
    "using Plots\n",
    "gr(size=(400, 300), dpi=700)"
   ]
  },
  {
   "cell_type": "code",
   "execution_count": 5,
   "metadata": {},
   "outputs": [
    {
     "data": {
      "text/plain": [
       "pprintln (generic function with 1 method)"
      ]
     },
     "execution_count": 5,
     "metadata": {},
     "output_type": "execute_result"
    }
   ],
   "source": [
    "function pprintln(obj)\n",
    "    show(stdout, \"text/plain\", obj)\n",
    "    println()\n",
    "end"
   ]
  },
  {
   "cell_type": "code",
   "execution_count": 6,
   "metadata": {},
   "outputs": [],
   "source": [
    "rng = MersenneTwister(1287);"
   ]
  },
  {
   "cell_type": "code",
   "execution_count": 7,
   "metadata": {},
   "outputs": [],
   "source": [
    "data = rand(rng, model(true_params), 1)[1];"
   ]
  },
  {
   "cell_type": "code",
   "execution_count": 8,
   "metadata": {},
   "outputs": [],
   "source": [
    "_common_grid = [1:_dims...];"
   ]
  },
  {
   "cell_type": "code",
   "execution_count": 9,
   "metadata": {},
   "outputs": [
    {
     "data": {
      "text/plain": [
       "#29 (generic function with 1 method)"
      ]
     },
     "execution_count": 9,
     "metadata": {},
     "output_type": "execute_result"
    }
   ],
   "source": [
    "init_plots =() -> let\n",
    "    truth = _mean(true_params)\n",
    "    plot!(_common_grid, truth, markercolor=:blue, linecolor=:blue, label=\"truth\")\n",
    "    scatter!(_common_grid, _mean(starting_point), markercolor=:orange, markerstrokewidth=0, markersize=1, label=\"init\")\n",
    "    scatter!(_common_grid, MGVInference.unshaped(data), markercolor=:black, markersize=1, label=\"data\")\n",
    "end"
   ]
  },
  {
   "cell_type": "code",
   "execution_count": 10,
   "metadata": {},
   "outputs": [
    {
     "data": {
      "image/svg+xml": [
       "<?xml version=\"1.0\" encoding=\"utf-8\"?>\n",
       "<svg xmlns=\"http://www.w3.org/2000/svg\" xmlns:xlink=\"http://www.w3.org/1999/xlink\" width=\"700\" height=\"525\" viewBox=\"0 0 2800 2100\">\n",
       "<defs>\n",
       "  <clipPath id=\"clip350\">\n",
       "    <rect x=\"0\" y=\"0\" width=\"2800\" height=\"2100\"/>\n",
       "  </clipPath>\n",
       "</defs>\n",
       "<path clip-path=\"url(#clip350)\" d=\"\n",
       "M0 2100 L2800 2100 L2800 0 L0 0  Z\n",
       "  \" fill=\"#ffffff\" fill-rule=\"evenodd\" fill-opacity=\"1\"/>\n",
       "<defs>\n",
       "  <clipPath id=\"clip351\">\n",
       "    <rect x=\"560\" y=\"0\" width=\"1961\" height=\"1961\"/>\n",
       "  </clipPath>\n",
       "</defs>\n",
       "<path clip-path=\"url(#clip350)\" d=\"\n",
       "M182.31 1900.72 L2717.32 1900.72 L2717.32 82.6772 L182.31 82.6772  Z\n",
       "  \" fill=\"#ffffff\" fill-rule=\"evenodd\" fill-opacity=\"1\"/>\n",
       "<defs>\n",
       "  <clipPath id=\"clip352\">\n",
       "    <rect x=\"182\" y=\"82\" width=\"2536\" height=\"1819\"/>\n",
       "  </clipPath>\n",
       "</defs>\n",
       "<polyline clip-path=\"url(#clip352)\" style=\"stroke:#000000; stroke-width:3.5; stroke-opacity:0.1; fill:none\" points=\"\n",
       "  192.735,1900.72 192.735,82.6772 \n",
       "  \"/>\n",
       "<polyline clip-path=\"url(#clip352)\" style=\"stroke:#000000; stroke-width:3.5; stroke-opacity:0.1; fill:none\" points=\"\n",
       "  805.945,1900.72 805.945,82.6772 \n",
       "  \"/>\n",
       "<polyline clip-path=\"url(#clip352)\" style=\"stroke:#000000; stroke-width:3.5; stroke-opacity:0.1; fill:none\" points=\"\n",
       "  1419.16,1900.72 1419.16,82.6772 \n",
       "  \"/>\n",
       "<polyline clip-path=\"url(#clip352)\" style=\"stroke:#000000; stroke-width:3.5; stroke-opacity:0.1; fill:none\" points=\"\n",
       "  2032.37,1900.72 2032.37,82.6772 \n",
       "  \"/>\n",
       "<polyline clip-path=\"url(#clip352)\" style=\"stroke:#000000; stroke-width:3.5; stroke-opacity:0.1; fill:none\" points=\"\n",
       "  2645.58,1900.72 2645.58,82.6772 \n",
       "  \"/>\n",
       "<polyline clip-path=\"url(#clip350)\" style=\"stroke:#000000; stroke-width:7; stroke-opacity:1; fill:none\" points=\"\n",
       "  182.31,1900.72 2717.32,1900.72 \n",
       "  \"/>\n",
       "<polyline clip-path=\"url(#clip350)\" style=\"stroke:#000000; stroke-width:7; stroke-opacity:1; fill:none\" points=\"\n",
       "  192.735,1900.72 192.735,1878.91 \n",
       "  \"/>\n",
       "<polyline clip-path=\"url(#clip350)\" style=\"stroke:#000000; stroke-width:7; stroke-opacity:1; fill:none\" points=\"\n",
       "  805.945,1900.72 805.945,1878.91 \n",
       "  \"/>\n",
       "<polyline clip-path=\"url(#clip350)\" style=\"stroke:#000000; stroke-width:7; stroke-opacity:1; fill:none\" points=\"\n",
       "  1419.16,1900.72 1419.16,1878.91 \n",
       "  \"/>\n",
       "<polyline clip-path=\"url(#clip350)\" style=\"stroke:#000000; stroke-width:7; stroke-opacity:1; fill:none\" points=\"\n",
       "  2032.37,1900.72 2032.37,1878.91 \n",
       "  \"/>\n",
       "<polyline clip-path=\"url(#clip350)\" style=\"stroke:#000000; stroke-width:7; stroke-opacity:1; fill:none\" points=\"\n",
       "  2645.58,1900.72 2645.58,1878.91 \n",
       "  \"/>\n",
       "<path clip-path=\"url(#clip350)\" d=\"M 0 0 M192.735 1940.61 Q186.415 1940.61 183.215 1946.85 Q180.055 1953.04 180.055 1965.52 Q180.055 1977.96 183.215 1984.2 Q186.415 1990.39 192.735 1990.39 Q199.095 1990.39 202.254 1984.2 Q205.454 1977.96 205.454 1965.52 Q205.454 1953.04 202.254 1946.85 Q199.095 1940.61 192.735 1940.61 M192.735 1934.13 Q202.902 1934.13 208.25 1942.19 Q213.637 1950.21 213.637 1965.52 Q213.637 1980.79 208.25 1988.85 Q202.902 1996.87 192.735 1996.87 Q182.567 1996.87 177.179 1988.85 Q171.832 1980.79 171.832 1965.52 Q171.832 1950.21 177.179 1942.19 Q182.567 1934.13 192.735 1934.13 Z\" fill=\"#000000\" fill-rule=\"evenodd\" fill-opacity=\"1\" /><path clip-path=\"url(#clip350)\" d=\"M 0 0 M765.477 1988.81 L778.845 1988.81 L778.845 1942.67 L764.302 1945.59 L764.302 1938.14 L778.764 1935.22 L786.947 1935.22 L786.947 1988.81 L800.315 1988.81 L800.315 1995.7 L765.477 1995.7 L765.477 1988.81 Z\" fill=\"#000000\" fill-rule=\"evenodd\" fill-opacity=\"1\" /><path clip-path=\"url(#clip350)\" d=\"M 0 0 M826.686 1940.61 Q820.366 1940.61 817.166 1946.85 Q814.007 1953.04 814.007 1965.52 Q814.007 1977.96 817.166 1984.2 Q820.366 1990.39 826.686 1990.39 Q833.046 1990.39 836.206 1984.2 Q839.406 1977.96 839.406 1965.52 Q839.406 1953.04 836.206 1946.85 Q833.046 1940.61 826.686 1940.61 M826.686 1934.13 Q836.854 1934.13 842.201 1942.19 Q847.589 1950.21 847.589 1965.52 Q847.589 1980.79 842.201 1988.85 Q836.854 1996.87 826.686 1996.87 Q816.518 1996.87 811.13 1988.85 Q805.783 1980.79 805.783 1965.52 Q805.783 1950.21 811.13 1942.19 Q816.518 1934.13 826.686 1934.13 Z\" fill=\"#000000\" fill-rule=\"evenodd\" fill-opacity=\"1\" /><path clip-path=\"url(#clip350)\" d=\"M 0 0 M1386.16 1988.81 L1414.72 1988.81 L1414.72 1995.7 L1376.32 1995.7 L1376.32 1988.81 Q1380.98 1983.99 1389 1975.89 Q1397.06 1967.75 1399.12 1965.4 Q1403.05 1960.98 1404.59 1957.95 Q1406.17 1954.87 1406.17 1951.91 Q1406.17 1947.09 1402.77 1944.05 Q1399.41 1941.01 1393.98 1941.01 Q1390.13 1941.01 1385.84 1942.35 Q1381.58 1943.69 1376.72 1946.4 L1376.72 1938.14 Q1381.66 1936.15 1385.96 1935.14 Q1390.25 1934.13 1393.82 1934.13 Q1403.22 1934.13 1408.81 1938.83 Q1414.4 1943.52 1414.4 1951.38 Q1414.4 1955.11 1412.98 1958.47 Q1411.6 1961.79 1407.91 1966.33 Q1406.9 1967.51 1401.47 1973.14 Q1396.05 1978.73 1386.16 1988.81 Z\" fill=\"#000000\" fill-rule=\"evenodd\" fill-opacity=\"1\" /><path clip-path=\"url(#clip350)\" d=\"M 0 0 M1441.09 1940.61 Q1434.77 1940.61 1431.57 1946.85 Q1428.41 1953.04 1428.41 1965.52 Q1428.41 1977.96 1431.57 1984.2 Q1434.77 1990.39 1441.09 1990.39 Q1447.45 1990.39 1450.61 1984.2 Q1453.81 1977.96 1453.81 1965.52 Q1453.81 1953.04 1450.61 1946.85 Q1447.45 1940.61 1441.09 1940.61 M1441.09 1934.13 Q1451.26 1934.13 1456.61 1942.19 Q1461.99 1950.21 1461.99 1965.52 Q1461.99 1980.79 1456.61 1988.85 Q1451.26 1996.87 1441.09 1996.87 Q1430.92 1996.87 1425.54 1988.85 Q1420.19 1980.79 1420.19 1965.52 Q1420.19 1950.21 1425.54 1942.19 Q1430.92 1934.13 1441.09 1934.13 Z\" fill=\"#000000\" fill-rule=\"evenodd\" fill-opacity=\"1\" /><path clip-path=\"url(#clip350)\" d=\"M 0 0 M2016.16 1963.09 Q2022.04 1964.35 2025.32 1968.32 Q2028.64 1972.29 2028.64 1978.12 Q2028.64 1987.07 2022.48 1991.97 Q2016.32 1996.87 2004.98 1996.87 Q2001.17 1996.87 1997.12 1996.1 Q1993.11 1995.38 1988.82 1993.88 L1988.82 1985.98 Q1992.22 1987.96 1996.27 1988.98 Q2000.32 1989.99 2004.74 1989.99 Q2012.44 1989.99 2016.45 1986.95 Q2020.5 1983.91 2020.5 1978.12 Q2020.5 1972.77 2016.73 1969.77 Q2013 1966.74 2006.32 1966.74 L1999.27 1966.74 L1999.27 1960.01 L2006.64 1960.01 Q2012.68 1960.01 2015.88 1957.62 Q2019.08 1955.19 2019.08 1950.65 Q2019.08 1946 2015.76 1943.52 Q2012.48 1941.01 2006.32 1941.01 Q2002.96 1941.01 1999.11 1941.74 Q1995.26 1942.47 1990.64 1944.01 L1990.64 1936.72 Q1995.3 1935.42 1999.35 1934.77 Q2003.44 1934.13 2007.05 1934.13 Q2016.37 1934.13 2021.79 1938.38 Q2027.22 1942.59 2027.22 1949.8 Q2027.22 1954.83 2024.35 1958.31 Q2021.47 1961.75 2016.16 1963.09 Z\" fill=\"#000000\" fill-rule=\"evenodd\" fill-opacity=\"1\" /><path clip-path=\"url(#clip350)\" d=\"M 0 0 M2055.01 1940.61 Q2048.69 1940.61 2045.49 1946.85 Q2042.33 1953.04 2042.33 1965.52 Q2042.33 1977.96 2045.49 1984.2 Q2048.69 1990.39 2055.01 1990.39 Q2061.37 1990.39 2064.53 1984.2 Q2067.73 1977.96 2067.73 1965.52 Q2067.73 1953.04 2064.53 1946.85 Q2061.37 1940.61 2055.01 1940.61 M2055.01 1934.13 Q2065.18 1934.13 2070.53 1942.19 Q2075.91 1950.21 2075.91 1965.52 Q2075.91 1980.79 2070.53 1988.85 Q2065.18 1996.87 2055.01 1996.87 Q2044.84 1996.87 2039.46 1988.85 Q2034.11 1980.79 2034.11 1965.52 Q2034.11 1950.21 2039.46 1942.19 Q2044.84 1934.13 2055.01 1934.13 Z\" fill=\"#000000\" fill-rule=\"evenodd\" fill-opacity=\"1\" /><path clip-path=\"url(#clip350)\" d=\"M 0 0 M2627.21 1942.35 L2606.55 1974.64 L2627.21 1974.64 L2627.21 1942.35 M2625.06 1935.22 L2635.35 1935.22 L2635.35 1974.64 L2643.98 1974.64 L2643.98 1981.44 L2635.35 1981.44 L2635.35 1995.7 L2627.21 1995.7 L2627.21 1981.44 L2599.9 1981.44 L2599.9 1973.54 L2625.06 1935.22 Z\" fill=\"#000000\" fill-rule=\"evenodd\" fill-opacity=\"1\" /><path clip-path=\"url(#clip350)\" d=\"M 0 0 M2670.35 1940.61 Q2664.03 1940.61 2660.83 1946.85 Q2657.67 1953.04 2657.67 1965.52 Q2657.67 1977.96 2660.83 1984.2 Q2664.03 1990.39 2670.35 1990.39 Q2676.71 1990.39 2679.87 1984.2 Q2683.07 1977.96 2683.07 1965.52 Q2683.07 1953.04 2679.87 1946.85 Q2676.71 1940.61 2670.35 1940.61 M2670.35 1934.13 Q2680.52 1934.13 2685.86 1942.19 Q2691.25 1950.21 2691.25 1965.52 Q2691.25 1980.79 2685.86 1988.85 Q2680.52 1996.87 2670.35 1996.87 Q2660.18 1996.87 2654.79 1988.85 Q2649.45 1980.79 2649.45 1965.52 Q2649.45 1950.21 2654.79 1942.19 Q2660.18 1934.13 2670.35 1934.13 Z\" fill=\"#000000\" fill-rule=\"evenodd\" fill-opacity=\"1\" /><polyline clip-path=\"url(#clip352)\" style=\"stroke:#000000; stroke-width:3.5; stroke-opacity:0.1; fill:none\" points=\"\n",
       "  182.31,1701.22 2717.32,1701.22 \n",
       "  \"/>\n",
       "<polyline clip-path=\"url(#clip352)\" style=\"stroke:#000000; stroke-width:3.5; stroke-opacity:0.1; fill:none\" points=\"\n",
       "  182.31,1460.17 2717.32,1460.17 \n",
       "  \"/>\n",
       "<polyline clip-path=\"url(#clip352)\" style=\"stroke:#000000; stroke-width:3.5; stroke-opacity:0.1; fill:none\" points=\"\n",
       "  182.31,1219.12 2717.32,1219.12 \n",
       "  \"/>\n",
       "<polyline clip-path=\"url(#clip352)\" style=\"stroke:#000000; stroke-width:3.5; stroke-opacity:0.1; fill:none\" points=\"\n",
       "  182.31,978.076 2717.32,978.076 \n",
       "  \"/>\n",
       "<polyline clip-path=\"url(#clip352)\" style=\"stroke:#000000; stroke-width:3.5; stroke-opacity:0.1; fill:none\" points=\"\n",
       "  182.31,737.029 2717.32,737.029 \n",
       "  \"/>\n",
       "<polyline clip-path=\"url(#clip352)\" style=\"stroke:#000000; stroke-width:3.5; stroke-opacity:0.1; fill:none\" points=\"\n",
       "  182.31,495.981 2717.32,495.981 \n",
       "  \"/>\n",
       "<polyline clip-path=\"url(#clip352)\" style=\"stroke:#000000; stroke-width:3.5; stroke-opacity:0.1; fill:none\" points=\"\n",
       "  182.31,254.934 2717.32,254.934 \n",
       "  \"/>\n",
       "<polyline clip-path=\"url(#clip350)\" style=\"stroke:#000000; stroke-width:7; stroke-opacity:1; fill:none\" points=\"\n",
       "  182.31,1900.72 182.31,82.6772 \n",
       "  \"/>\n",
       "<polyline clip-path=\"url(#clip350)\" style=\"stroke:#000000; stroke-width:7; stroke-opacity:1; fill:none\" points=\"\n",
       "  182.31,1701.22 212.73,1701.22 \n",
       "  \"/>\n",
       "<polyline clip-path=\"url(#clip350)\" style=\"stroke:#000000; stroke-width:7; stroke-opacity:1; fill:none\" points=\"\n",
       "  182.31,1460.17 212.73,1460.17 \n",
       "  \"/>\n",
       "<polyline clip-path=\"url(#clip350)\" style=\"stroke:#000000; stroke-width:7; stroke-opacity:1; fill:none\" points=\"\n",
       "  182.31,1219.12 212.73,1219.12 \n",
       "  \"/>\n",
       "<polyline clip-path=\"url(#clip350)\" style=\"stroke:#000000; stroke-width:7; stroke-opacity:1; fill:none\" points=\"\n",
       "  182.31,978.076 212.73,978.076 \n",
       "  \"/>\n",
       "<polyline clip-path=\"url(#clip350)\" style=\"stroke:#000000; stroke-width:7; stroke-opacity:1; fill:none\" points=\"\n",
       "  182.31,737.029 212.73,737.029 \n",
       "  \"/>\n",
       "<polyline clip-path=\"url(#clip350)\" style=\"stroke:#000000; stroke-width:7; stroke-opacity:1; fill:none\" points=\"\n",
       "  182.31,495.981 212.73,495.981 \n",
       "  \"/>\n",
       "<polyline clip-path=\"url(#clip350)\" style=\"stroke:#000000; stroke-width:7; stroke-opacity:1; fill:none\" points=\"\n",
       "  182.31,254.934 212.73,254.934 \n",
       "  \"/>\n",
       "<path clip-path=\"url(#clip350)\" d=\"M 0 0 M119.407 1676.37 Q113.088 1676.37 109.888 1682.61 Q106.728 1688.8 106.728 1701.28 Q106.728 1713.72 109.888 1719.95 Q113.088 1726.15 119.407 1726.15 Q125.767 1726.15 128.927 1719.95 Q132.127 1713.72 132.127 1701.28 Q132.127 1688.8 128.927 1682.61 Q125.767 1676.37 119.407 1676.37 M119.407 1669.89 Q129.575 1669.89 134.922 1677.95 Q140.31 1685.97 140.31 1701.28 Q140.31 1716.55 134.922 1724.61 Q129.575 1732.63 119.407 1732.63 Q109.24 1732.63 103.852 1724.61 Q98.5047 1716.55 98.5047 1701.28 Q98.5047 1685.97 103.852 1677.95 Q109.24 1669.89 119.407 1669.89 Z\" fill=\"#000000\" fill-rule=\"evenodd\" fill-opacity=\"1\" /><path clip-path=\"url(#clip350)\" d=\"M 0 0 M105.472 1483.53 L118.84 1483.53 L118.84 1437.39 L104.298 1440.3 L104.298 1432.85 L118.759 1429.93 L126.942 1429.93 L126.942 1483.53 L140.31 1483.53 L140.31 1490.41 L105.472 1490.41 L105.472 1483.53 Z\" fill=\"#000000\" fill-rule=\"evenodd\" fill-opacity=\"1\" /><path clip-path=\"url(#clip350)\" d=\"M 0 0 M111.751 1242.48 L140.31 1242.48 L140.31 1249.36 L101.907 1249.36 L101.907 1242.48 Q106.566 1237.66 114.587 1229.56 Q122.648 1221.41 124.714 1219.06 Q128.643 1214.65 130.183 1211.61 Q131.763 1208.53 131.763 1205.57 Q131.763 1200.75 128.36 1197.72 Q124.998 1194.68 119.569 1194.68 Q115.721 1194.68 111.427 1196.01 Q107.174 1197.35 102.313 1200.06 L102.313 1191.8 Q107.255 1189.82 111.549 1188.8 Q115.843 1187.79 119.407 1187.79 Q128.805 1187.79 134.396 1192.49 Q139.986 1197.19 139.986 1205.05 Q139.986 1208.77 138.568 1212.14 Q137.191 1215.46 133.505 1220 Q132.492 1221.17 127.064 1226.8 Q121.635 1232.39 111.751 1242.48 Z\" fill=\"#000000\" fill-rule=\"evenodd\" fill-opacity=\"1\" /><path clip-path=\"url(#clip350)\" d=\"M 0 0 M127.833 975.707 Q133.707 976.962 136.988 980.932 Q140.31 984.902 140.31 990.736 Q140.31 999.688 134.153 1004.59 Q127.995 1009.49 116.653 1009.49 Q112.845 1009.49 108.794 1008.72 Q104.784 1007.99 100.49 1006.49 L100.49 998.594 Q103.892 1000.58 107.943 1001.59 Q111.994 1002.6 116.41 1002.6 Q124.106 1002.6 128.117 999.567 Q132.168 996.528 132.168 990.736 Q132.168 985.388 128.4 982.391 Q124.674 979.353 117.99 979.353 L110.941 979.353 L110.941 972.628 L118.314 972.628 Q124.349 972.628 127.55 970.238 Q130.75 967.807 130.75 963.27 Q130.75 958.612 127.428 956.141 Q124.147 953.629 117.99 953.629 Q114.627 953.629 110.779 954.358 Q106.931 955.088 102.313 956.627 L102.313 949.335 Q106.971 948.039 111.022 947.391 Q115.113 946.743 118.719 946.743 Q128.036 946.743 133.464 950.996 Q138.892 955.209 138.892 962.42 Q138.892 967.443 136.016 970.927 Q133.14 974.37 127.833 975.707 Z\" fill=\"#000000\" fill-rule=\"evenodd\" fill-opacity=\"1\" /><path clip-path=\"url(#clip350)\" d=\"M 0 0 M123.539 713.918 L102.88 746.204 L123.539 746.204 L123.539 713.918 M121.392 706.789 L131.682 706.789 L131.682 746.204 L140.31 746.204 L140.31 753.01 L131.682 753.01 L131.682 767.269 L123.539 767.269 L123.539 753.01 L96.2362 753.01 L96.2362 745.11 L121.392 706.789 Z\" fill=\"#000000\" fill-rule=\"evenodd\" fill-opacity=\"1\" /><path clip-path=\"url(#clip350)\" d=\"M 0 0 M103.73 465.741 L135.854 465.741 L135.854 472.628 L111.225 472.628 L111.225 487.454 Q113.007 486.846 114.789 486.563 Q116.572 486.239 118.354 486.239 Q128.481 486.239 134.396 491.788 Q140.31 497.338 140.31 506.817 Q140.31 516.58 134.234 522.008 Q128.157 527.396 117.098 527.396 Q113.291 527.396 109.321 526.748 Q105.391 526.1 101.178 524.803 L101.178 516.58 Q104.824 518.565 108.713 519.537 Q112.602 520.509 116.936 520.509 Q123.944 520.509 128.036 516.823 Q132.127 513.137 132.127 506.817 Q132.127 500.498 128.036 496.812 Q123.944 493.125 116.936 493.125 Q113.655 493.125 110.374 493.854 Q107.133 494.584 103.73 496.123 L103.73 465.741 Z\" fill=\"#000000\" fill-rule=\"evenodd\" fill-opacity=\"1\" /><path clip-path=\"url(#clip350)\" d=\"M 0 0 M120.137 251.673 Q114.627 251.673 111.387 255.44 Q108.186 259.207 108.186 265.77 Q108.186 272.292 111.387 276.1 Q114.627 279.867 120.137 279.867 Q125.646 279.867 128.846 276.1 Q132.087 272.292 132.087 265.77 Q132.087 259.207 128.846 255.44 Q125.646 251.673 120.137 251.673 M136.381 226.03 L136.381 233.484 Q133.302 232.026 130.142 231.256 Q127.023 230.486 123.944 230.486 Q115.843 230.486 111.549 235.955 Q107.295 241.424 106.688 252.483 Q109.078 248.958 112.683 247.095 Q116.288 245.191 120.623 245.191 Q129.737 245.191 135.003 250.741 Q140.31 256.25 140.31 265.77 Q140.31 275.087 134.801 280.718 Q129.292 286.348 120.137 286.348 Q109.645 286.348 104.095 278.328 Q98.5452 270.266 98.5452 254.994 Q98.5452 240.654 105.351 232.147 Q112.156 223.6 123.62 223.6 Q126.699 223.6 129.818 224.207 Q132.978 224.815 136.381 226.03 Z\" fill=\"#000000\" fill-rule=\"evenodd\" fill-opacity=\"1\" /><polyline clip-path=\"url(#clip352)\" style=\"stroke:#0000ff; stroke-width:7; stroke-opacity:1; fill:none\" points=\"\n",
       "  254.056,809.956 315.377,875.162 376.698,938.049 438.019,1117.34 499.34,1278.89 560.661,1390.34 621.982,1469.23 683.303,1523.91 744.624,1553.87 805.945,1568.6 \n",
       "  867.266,1574.85 928.587,1594.32 989.908,1609.31 1051.23,1615.17 1112.55,1616.75 1173.87,1613.57 1235.19,1592.78 1296.51,1549.73 1357.83,1494.63 1419.16,1397.7 \n",
       "  1480.48,1266.01 1541.8,1069.29 1603.12,859.981 1664.44,686.462 1725.76,579.901 1787.08,597.01 1848.4,729.841 1909.72,878.857 1971.05,912.138 2032.37,934.732 \n",
       "  2093.69,913.91 2155.01,870.849 2216.33,809.862 2277.65,734.715 2338.97,658.695 2400.29,600.981 2461.61,483.274 2522.94,337.872 2584.26,428.554 2645.58,685.247 \n",
       "  \n",
       "  \"/>\n",
       "<circle clip-path=\"url(#clip352)\" cx=\"254.056\" cy=\"1543.34\" r=\"6\" fill=\"#ffa500\" fill-rule=\"evenodd\" fill-opacity=\"1\" stroke=\"#000000\" stroke-opacity=\"1\" stroke-width=\"0\"/>\n",
       "<circle clip-path=\"url(#clip352)\" cx=\"315.377\" cy=\"1587.75\" r=\"6\" fill=\"#ffa500\" fill-rule=\"evenodd\" fill-opacity=\"1\" stroke=\"#000000\" stroke-opacity=\"1\" stroke-width=\"0\"/>\n",
       "<circle clip-path=\"url(#clip352)\" cx=\"376.698\" cy=\"1620.5\" r=\"6\" fill=\"#ffa500\" fill-rule=\"evenodd\" fill-opacity=\"1\" stroke=\"#000000\" stroke-opacity=\"1\" stroke-width=\"0\"/>\n",
       "<circle clip-path=\"url(#clip352)\" cx=\"438.019\" cy=\"1641.23\" r=\"6\" fill=\"#ffa500\" fill-rule=\"evenodd\" fill-opacity=\"1\" stroke=\"#000000\" stroke-opacity=\"1\" stroke-width=\"0\"/>\n",
       "<circle clip-path=\"url(#clip352)\" cx=\"499.34\" cy=\"1659.22\" r=\"6\" fill=\"#ffa500\" fill-rule=\"evenodd\" fill-opacity=\"1\" stroke=\"#000000\" stroke-opacity=\"1\" stroke-width=\"0\"/>\n",
       "<circle clip-path=\"url(#clip352)\" cx=\"560.661\" cy=\"1665.79\" r=\"6\" fill=\"#ffa500\" fill-rule=\"evenodd\" fill-opacity=\"1\" stroke=\"#000000\" stroke-opacity=\"1\" stroke-width=\"0\"/>\n",
       "<circle clip-path=\"url(#clip352)\" cx=\"621.982\" cy=\"1666.83\" r=\"6\" fill=\"#ffa500\" fill-rule=\"evenodd\" fill-opacity=\"1\" stroke=\"#000000\" stroke-opacity=\"1\" stroke-width=\"0\"/>\n",
       "<circle clip-path=\"url(#clip352)\" cx=\"683.303\" cy=\"1666.99\" r=\"6\" fill=\"#ffa500\" fill-rule=\"evenodd\" fill-opacity=\"1\" stroke=\"#000000\" stroke-opacity=\"1\" stroke-width=\"0\"/>\n",
       "<circle clip-path=\"url(#clip352)\" cx=\"744.624\" cy=\"1669.36\" r=\"6\" fill=\"#ffa500\" fill-rule=\"evenodd\" fill-opacity=\"1\" stroke=\"#000000\" stroke-opacity=\"1\" stroke-width=\"0\"/>\n",
       "<circle clip-path=\"url(#clip352)\" cx=\"805.945\" cy=\"1670.59\" r=\"6\" fill=\"#ffa500\" fill-rule=\"evenodd\" fill-opacity=\"1\" stroke=\"#000000\" stroke-opacity=\"1\" stroke-width=\"0\"/>\n",
       "<circle clip-path=\"url(#clip352)\" cx=\"867.266\" cy=\"1666.44\" r=\"6\" fill=\"#ffa500\" fill-rule=\"evenodd\" fill-opacity=\"1\" stroke=\"#000000\" stroke-opacity=\"1\" stroke-width=\"0\"/>\n",
       "<circle clip-path=\"url(#clip352)\" cx=\"928.587\" cy=\"1662.51\" r=\"6\" fill=\"#ffa500\" fill-rule=\"evenodd\" fill-opacity=\"1\" stroke=\"#000000\" stroke-opacity=\"1\" stroke-width=\"0\"/>\n",
       "<circle clip-path=\"url(#clip352)\" cx=\"989.908\" cy=\"1659.63\" r=\"6\" fill=\"#ffa500\" fill-rule=\"evenodd\" fill-opacity=\"1\" stroke=\"#000000\" stroke-opacity=\"1\" stroke-width=\"0\"/>\n",
       "<circle clip-path=\"url(#clip352)\" cx=\"1051.23\" cy=\"1650.18\" r=\"6\" fill=\"#ffa500\" fill-rule=\"evenodd\" fill-opacity=\"1\" stroke=\"#000000\" stroke-opacity=\"1\" stroke-width=\"0\"/>\n",
       "<circle clip-path=\"url(#clip352)\" cx=\"1112.55\" cy=\"1645.31\" r=\"6\" fill=\"#ffa500\" fill-rule=\"evenodd\" fill-opacity=\"1\" stroke=\"#000000\" stroke-opacity=\"1\" stroke-width=\"0\"/>\n",
       "<circle clip-path=\"url(#clip352)\" cx=\"1173.87\" cy=\"1642.38\" r=\"6\" fill=\"#ffa500\" fill-rule=\"evenodd\" fill-opacity=\"1\" stroke=\"#000000\" stroke-opacity=\"1\" stroke-width=\"0\"/>\n",
       "<circle clip-path=\"url(#clip352)\" cx=\"1235.19\" cy=\"1639.18\" r=\"6\" fill=\"#ffa500\" fill-rule=\"evenodd\" fill-opacity=\"1\" stroke=\"#000000\" stroke-opacity=\"1\" stroke-width=\"0\"/>\n",
       "<circle clip-path=\"url(#clip352)\" cx=\"1296.51\" cy=\"1624.58\" r=\"6\" fill=\"#ffa500\" fill-rule=\"evenodd\" fill-opacity=\"1\" stroke=\"#000000\" stroke-opacity=\"1\" stroke-width=\"0\"/>\n",
       "<circle clip-path=\"url(#clip352)\" cx=\"1357.83\" cy=\"1596.32\" r=\"6\" fill=\"#ffa500\" fill-rule=\"evenodd\" fill-opacity=\"1\" stroke=\"#000000\" stroke-opacity=\"1\" stroke-width=\"0\"/>\n",
       "<circle clip-path=\"url(#clip352)\" cx=\"1419.16\" cy=\"1540.9\" r=\"6\" fill=\"#ffa500\" fill-rule=\"evenodd\" fill-opacity=\"1\" stroke=\"#000000\" stroke-opacity=\"1\" stroke-width=\"0\"/>\n",
       "<circle clip-path=\"url(#clip352)\" cx=\"1480.48\" cy=\"1464.33\" r=\"6\" fill=\"#ffa500\" fill-rule=\"evenodd\" fill-opacity=\"1\" stroke=\"#000000\" stroke-opacity=\"1\" stroke-width=\"0\"/>\n",
       "<circle clip-path=\"url(#clip352)\" cx=\"1541.8\" cy=\"1319.89\" r=\"6\" fill=\"#ffa500\" fill-rule=\"evenodd\" fill-opacity=\"1\" stroke=\"#000000\" stroke-opacity=\"1\" stroke-width=\"0\"/>\n",
       "<circle clip-path=\"url(#clip352)\" cx=\"1603.12\" cy=\"1112.63\" r=\"6\" fill=\"#ffa500\" fill-rule=\"evenodd\" fill-opacity=\"1\" stroke=\"#000000\" stroke-opacity=\"1\" stroke-width=\"0\"/>\n",
       "<circle clip-path=\"url(#clip352)\" cx=\"1664.44\" cy=\"854.73\" r=\"6\" fill=\"#ffa500\" fill-rule=\"evenodd\" fill-opacity=\"1\" stroke=\"#000000\" stroke-opacity=\"1\" stroke-width=\"0\"/>\n",
       "<circle clip-path=\"url(#clip352)\" cx=\"1725.76\" cy=\"634.413\" r=\"6\" fill=\"#ffa500\" fill-rule=\"evenodd\" fill-opacity=\"1\" stroke=\"#000000\" stroke-opacity=\"1\" stroke-width=\"0\"/>\n",
       "<circle clip-path=\"url(#clip352)\" cx=\"1787.08\" cy=\"389.892\" r=\"6\" fill=\"#ffa500\" fill-rule=\"evenodd\" fill-opacity=\"1\" stroke=\"#000000\" stroke-opacity=\"1\" stroke-width=\"0\"/>\n",
       "<circle clip-path=\"url(#clip352)\" cx=\"1848.4\" cy=\"134.131\" r=\"6\" fill=\"#ffa500\" fill-rule=\"evenodd\" fill-opacity=\"1\" stroke=\"#000000\" stroke-opacity=\"1\" stroke-width=\"0\"/>\n",
       "<circle clip-path=\"url(#clip352)\" cx=\"1909.72\" cy=\"219.519\" r=\"6\" fill=\"#ffa500\" fill-rule=\"evenodd\" fill-opacity=\"1\" stroke=\"#000000\" stroke-opacity=\"1\" stroke-width=\"0\"/>\n",
       "<circle clip-path=\"url(#clip352)\" cx=\"1971.05\" cy=\"453.565\" r=\"6\" fill=\"#ffa500\" fill-rule=\"evenodd\" fill-opacity=\"1\" stroke=\"#000000\" stroke-opacity=\"1\" stroke-width=\"0\"/>\n",
       "<circle clip-path=\"url(#clip352)\" cx=\"2032.37\" cy=\"713.397\" r=\"6\" fill=\"#ffa500\" fill-rule=\"evenodd\" fill-opacity=\"1\" stroke=\"#000000\" stroke-opacity=\"1\" stroke-width=\"0\"/>\n",
       "<circle clip-path=\"url(#clip352)\" cx=\"2093.69\" cy=\"950.646\" r=\"6\" fill=\"#ffa500\" fill-rule=\"evenodd\" fill-opacity=\"1\" stroke=\"#000000\" stroke-opacity=\"1\" stroke-width=\"0\"/>\n",
       "<circle clip-path=\"url(#clip352)\" cx=\"2155.01\" cy=\"1106.63\" r=\"6\" fill=\"#ffa500\" fill-rule=\"evenodd\" fill-opacity=\"1\" stroke=\"#000000\" stroke-opacity=\"1\" stroke-width=\"0\"/>\n",
       "<circle clip-path=\"url(#clip352)\" cx=\"2216.33\" cy=\"1193.99\" r=\"6\" fill=\"#ffa500\" fill-rule=\"evenodd\" fill-opacity=\"1\" stroke=\"#000000\" stroke-opacity=\"1\" stroke-width=\"0\"/>\n",
       "<circle clip-path=\"url(#clip352)\" cx=\"2277.65\" cy=\"1212.33\" r=\"6\" fill=\"#ffa500\" fill-rule=\"evenodd\" fill-opacity=\"1\" stroke=\"#000000\" stroke-opacity=\"1\" stroke-width=\"0\"/>\n",
       "<circle clip-path=\"url(#clip352)\" cx=\"2338.97\" cy=\"1218.2\" r=\"6\" fill=\"#ffa500\" fill-rule=\"evenodd\" fill-opacity=\"1\" stroke=\"#000000\" stroke-opacity=\"1\" stroke-width=\"0\"/>\n",
       "<circle clip-path=\"url(#clip352)\" cx=\"2400.29\" cy=\"1239.02\" r=\"6\" fill=\"#ffa500\" fill-rule=\"evenodd\" fill-opacity=\"1\" stroke=\"#000000\" stroke-opacity=\"1\" stroke-width=\"0\"/>\n",
       "<circle clip-path=\"url(#clip352)\" cx=\"2461.61\" cy=\"1296.05\" r=\"6\" fill=\"#ffa500\" fill-rule=\"evenodd\" fill-opacity=\"1\" stroke=\"#000000\" stroke-opacity=\"1\" stroke-width=\"0\"/>\n",
       "<circle clip-path=\"url(#clip352)\" cx=\"2522.94\" cy=\"1383.78\" r=\"6\" fill=\"#ffa500\" fill-rule=\"evenodd\" fill-opacity=\"1\" stroke=\"#000000\" stroke-opacity=\"1\" stroke-width=\"0\"/>\n",
       "<circle clip-path=\"url(#clip352)\" cx=\"2584.26\" cy=\"1441.09\" r=\"6\" fill=\"#ffa500\" fill-rule=\"evenodd\" fill-opacity=\"1\" stroke=\"#000000\" stroke-opacity=\"1\" stroke-width=\"0\"/>\n",
       "<circle clip-path=\"url(#clip352)\" cx=\"2645.58\" cy=\"1490.42\" r=\"6\" fill=\"#ffa500\" fill-rule=\"evenodd\" fill-opacity=\"1\" stroke=\"#000000\" stroke-opacity=\"1\" stroke-width=\"0\"/>\n",
       "<circle clip-path=\"url(#clip352)\" cx=\"254.056\" cy=\"616.068\" r=\"6\" fill=\"#000000\" fill-rule=\"evenodd\" fill-opacity=\"1\" stroke=\"none\"/>\n",
       "<circle clip-path=\"url(#clip352)\" cx=\"315.377\" cy=\"808.141\" r=\"6\" fill=\"#000000\" fill-rule=\"evenodd\" fill-opacity=\"1\" stroke=\"none\"/>\n",
       "<circle clip-path=\"url(#clip352)\" cx=\"376.698\" cy=\"907.179\" r=\"6\" fill=\"#000000\" fill-rule=\"evenodd\" fill-opacity=\"1\" stroke=\"none\"/>\n",
       "<circle clip-path=\"url(#clip352)\" cx=\"438.019\" cy=\"1097.71\" r=\"6\" fill=\"#000000\" fill-rule=\"evenodd\" fill-opacity=\"1\" stroke=\"none\"/>\n",
       "<circle clip-path=\"url(#clip352)\" cx=\"499.34\" cy=\"1348.05\" r=\"6\" fill=\"#000000\" fill-rule=\"evenodd\" fill-opacity=\"1\" stroke=\"none\"/>\n",
       "<circle clip-path=\"url(#clip352)\" cx=\"560.661\" cy=\"1436.83\" r=\"6\" fill=\"#000000\" fill-rule=\"evenodd\" fill-opacity=\"1\" stroke=\"none\"/>\n",
       "<circle clip-path=\"url(#clip352)\" cx=\"621.982\" cy=\"1455.39\" r=\"6\" fill=\"#000000\" fill-rule=\"evenodd\" fill-opacity=\"1\" stroke=\"none\"/>\n",
       "<circle clip-path=\"url(#clip352)\" cx=\"683.303\" cy=\"1595.85\" r=\"6\" fill=\"#000000\" fill-rule=\"evenodd\" fill-opacity=\"1\" stroke=\"none\"/>\n",
       "<circle clip-path=\"url(#clip352)\" cx=\"744.624\" cy=\"1590.93\" r=\"6\" fill=\"#000000\" fill-rule=\"evenodd\" fill-opacity=\"1\" stroke=\"none\"/>\n",
       "<circle clip-path=\"url(#clip352)\" cx=\"805.945\" cy=\"1454.07\" r=\"6\" fill=\"#000000\" fill-rule=\"evenodd\" fill-opacity=\"1\" stroke=\"none\"/>\n",
       "<circle clip-path=\"url(#clip352)\" cx=\"867.266\" cy=\"1688.88\" r=\"6\" fill=\"#000000\" fill-rule=\"evenodd\" fill-opacity=\"1\" stroke=\"none\"/>\n",
       "<circle clip-path=\"url(#clip352)\" cx=\"928.587\" cy=\"1642.92\" r=\"6\" fill=\"#000000\" fill-rule=\"evenodd\" fill-opacity=\"1\" stroke=\"none\"/>\n",
       "<circle clip-path=\"url(#clip352)\" cx=\"989.908\" cy=\"1707.78\" r=\"6\" fill=\"#000000\" fill-rule=\"evenodd\" fill-opacity=\"1\" stroke=\"none\"/>\n",
       "<circle clip-path=\"url(#clip352)\" cx=\"1051.23\" cy=\"1715.43\" r=\"6\" fill=\"#000000\" fill-rule=\"evenodd\" fill-opacity=\"1\" stroke=\"none\"/>\n",
       "<circle clip-path=\"url(#clip352)\" cx=\"1112.55\" cy=\"1400.18\" r=\"6\" fill=\"#000000\" fill-rule=\"evenodd\" fill-opacity=\"1\" stroke=\"none\"/>\n",
       "<circle clip-path=\"url(#clip352)\" cx=\"1173.87\" cy=\"1679.58\" r=\"6\" fill=\"#000000\" fill-rule=\"evenodd\" fill-opacity=\"1\" stroke=\"none\"/>\n",
       "<circle clip-path=\"url(#clip352)\" cx=\"1235.19\" cy=\"1477.58\" r=\"6\" fill=\"#000000\" fill-rule=\"evenodd\" fill-opacity=\"1\" stroke=\"none\"/>\n",
       "<circle clip-path=\"url(#clip352)\" cx=\"1296.51\" cy=\"1849.27\" r=\"6\" fill=\"#000000\" fill-rule=\"evenodd\" fill-opacity=\"1\" stroke=\"none\"/>\n",
       "<circle clip-path=\"url(#clip352)\" cx=\"1357.83\" cy=\"1435.66\" r=\"6\" fill=\"#000000\" fill-rule=\"evenodd\" fill-opacity=\"1\" stroke=\"none\"/>\n",
       "<circle clip-path=\"url(#clip352)\" cx=\"1419.16\" cy=\"1292.82\" r=\"6\" fill=\"#000000\" fill-rule=\"evenodd\" fill-opacity=\"1\" stroke=\"none\"/>\n",
       "<circle clip-path=\"url(#clip352)\" cx=\"1480.48\" cy=\"1251.99\" r=\"6\" fill=\"#000000\" fill-rule=\"evenodd\" fill-opacity=\"1\" stroke=\"none\"/>\n",
       "<circle clip-path=\"url(#clip352)\" cx=\"1541.8\" cy=\"1029.39\" r=\"6\" fill=\"#000000\" fill-rule=\"evenodd\" fill-opacity=\"1\" stroke=\"none\"/>\n",
       "<circle clip-path=\"url(#clip352)\" cx=\"1603.12\" cy=\"791.652\" r=\"6\" fill=\"#000000\" fill-rule=\"evenodd\" fill-opacity=\"1\" stroke=\"none\"/>\n",
       "<circle clip-path=\"url(#clip352)\" cx=\"1664.44\" cy=\"583.931\" r=\"6\" fill=\"#000000\" fill-rule=\"evenodd\" fill-opacity=\"1\" stroke=\"none\"/>\n",
       "<circle clip-path=\"url(#clip352)\" cx=\"1725.76\" cy=\"488.081\" r=\"6\" fill=\"#000000\" fill-rule=\"evenodd\" fill-opacity=\"1\" stroke=\"none\"/>\n",
       "<circle clip-path=\"url(#clip352)\" cx=\"1787.08\" cy=\"450.503\" r=\"6\" fill=\"#000000\" fill-rule=\"evenodd\" fill-opacity=\"1\" stroke=\"none\"/>\n",
       "<circle clip-path=\"url(#clip352)\" cx=\"1848.4\" cy=\"749.193\" r=\"6\" fill=\"#000000\" fill-rule=\"evenodd\" fill-opacity=\"1\" stroke=\"none\"/>\n",
       "<circle clip-path=\"url(#clip352)\" cx=\"1909.72\" cy=\"923.221\" r=\"6\" fill=\"#000000\" fill-rule=\"evenodd\" fill-opacity=\"1\" stroke=\"none\"/>\n",
       "<circle clip-path=\"url(#clip352)\" cx=\"1971.05\" cy=\"991.426\" r=\"6\" fill=\"#000000\" fill-rule=\"evenodd\" fill-opacity=\"1\" stroke=\"none\"/>\n",
       "<circle clip-path=\"url(#clip352)\" cx=\"2032.37\" cy=\"1039.95\" r=\"6\" fill=\"#000000\" fill-rule=\"evenodd\" fill-opacity=\"1\" stroke=\"none\"/>\n",
       "<circle clip-path=\"url(#clip352)\" cx=\"2093.69\" cy=\"845.042\" r=\"6\" fill=\"#000000\" fill-rule=\"evenodd\" fill-opacity=\"1\" stroke=\"none\"/>\n",
       "<circle clip-path=\"url(#clip352)\" cx=\"2155.01\" cy=\"791.78\" r=\"6\" fill=\"#000000\" fill-rule=\"evenodd\" fill-opacity=\"1\" stroke=\"none\"/>\n",
       "<circle clip-path=\"url(#clip352)\" cx=\"2216.33\" cy=\"818.137\" r=\"6\" fill=\"#000000\" fill-rule=\"evenodd\" fill-opacity=\"1\" stroke=\"none\"/>\n",
       "<circle clip-path=\"url(#clip352)\" cx=\"2277.65\" cy=\"673.966\" r=\"6\" fill=\"#000000\" fill-rule=\"evenodd\" fill-opacity=\"1\" stroke=\"none\"/>\n",
       "<circle clip-path=\"url(#clip352)\" cx=\"2338.97\" cy=\"690.313\" r=\"6\" fill=\"#000000\" fill-rule=\"evenodd\" fill-opacity=\"1\" stroke=\"none\"/>\n",
       "<circle clip-path=\"url(#clip352)\" cx=\"2400.29\" cy=\"635.666\" r=\"6\" fill=\"#000000\" fill-rule=\"evenodd\" fill-opacity=\"1\" stroke=\"none\"/>\n",
       "<circle clip-path=\"url(#clip352)\" cx=\"2461.61\" cy=\"441.383\" r=\"6\" fill=\"#000000\" fill-rule=\"evenodd\" fill-opacity=\"1\" stroke=\"none\"/>\n",
       "<circle clip-path=\"url(#clip352)\" cx=\"2522.94\" cy=\"478.018\" r=\"6\" fill=\"#000000\" fill-rule=\"evenodd\" fill-opacity=\"1\" stroke=\"none\"/>\n",
       "<circle clip-path=\"url(#clip352)\" cx=\"2584.26\" cy=\"506.219\" r=\"6\" fill=\"#000000\" fill-rule=\"evenodd\" fill-opacity=\"1\" stroke=\"none\"/>\n",
       "<circle clip-path=\"url(#clip352)\" cx=\"2645.58\" cy=\"689.669\" r=\"6\" fill=\"#000000\" fill-rule=\"evenodd\" fill-opacity=\"1\" stroke=\"none\"/>\n",
       "<path clip-path=\"url(#clip350)\" d=\"\n",
       "M2167.61 566.639 L2632.82 566.639 L2632.82 143.279 L2167.61 143.279  Z\n",
       "  \" fill=\"#ffffff\" fill-rule=\"evenodd\" fill-opacity=\"1\"/>\n",
       "<polyline clip-path=\"url(#clip350)\" style=\"stroke:#000000; stroke-width:7; stroke-opacity:1; fill:none\" points=\"\n",
       "  2167.61,566.639 2632.82,566.639 2632.82,143.279 2167.61,143.279 2167.61,566.639 \n",
       "  \"/>\n",
       "<polyline clip-path=\"url(#clip350)\" style=\"stroke:#0000ff; stroke-width:7; stroke-opacity:1; fill:none\" points=\"\n",
       "  2195.77,249.119 2364.78,249.119 \n",
       "  \"/>\n",
       "<path clip-path=\"url(#clip350)\" d=\"M 0 0 M2405.91 221.107 L2405.91 233.989 L2421.26 233.989 L2421.26 239.781 L2405.91 239.781 L2405.91 264.411 Q2405.91 269.961 2407.4 271.54 Q2408.94 273.12 2413.6 273.12 L2421.26 273.12 L2421.26 279.359 L2413.6 279.359 Q2404.97 279.359 2401.69 276.159 Q2398.41 272.918 2398.41 264.411 L2398.41 239.781 L2392.94 239.781 L2392.94 233.989 L2398.41 233.989 L2398.41 221.107 L2405.91 221.107 Z\" fill=\"#000000\" fill-rule=\"evenodd\" fill-opacity=\"1\" /><path clip-path=\"url(#clip350)\" d=\"M 0 0 M2455.37 240.956 Q2454.11 240.227 2452.61 239.903 Q2451.15 239.538 2449.37 239.538 Q2443.05 239.538 2439.65 243.67 Q2436.29 247.762 2436.29 255.458 L2436.29 279.359 L2428.79 279.359 L2428.79 233.989 L2436.29 233.989 L2436.29 241.037 Q2438.64 236.905 2442.4 234.92 Q2446.17 232.895 2451.56 232.895 Q2452.33 232.895 2453.26 233.016 Q2454.19 233.097 2455.33 233.3 L2455.37 240.956 Z\" fill=\"#000000\" fill-rule=\"evenodd\" fill-opacity=\"1\" /><path clip-path=\"url(#clip350)\" d=\"M 0 0 M2462.42 261.454 L2462.42 233.989 L2469.87 233.989 L2469.87 261.17 Q2469.87 267.611 2472.38 270.852 Q2474.89 274.052 2479.92 274.052 Q2485.95 274.052 2489.43 270.204 Q2492.96 266.355 2492.96 259.712 L2492.96 233.989 L2500.41 233.989 L2500.41 279.359 L2492.96 279.359 L2492.96 272.391 Q2490.25 276.523 2486.64 278.549 Q2483.07 280.533 2478.34 280.533 Q2470.52 280.533 2466.47 275.672 Q2462.42 270.811 2462.42 261.454 M2481.17 232.895 L2481.17 232.895 Z\" fill=\"#000000\" fill-rule=\"evenodd\" fill-opacity=\"1\" /><path clip-path=\"url(#clip350)\" d=\"M 0 0 M2515.6 221.107 L2515.6 233.989 L2530.96 233.989 L2530.96 239.781 L2515.6 239.781 L2515.6 264.411 Q2515.6 269.961 2517.1 271.54 Q2518.64 273.12 2523.3 273.12 L2530.96 273.12 L2530.96 279.359 L2523.3 279.359 Q2514.67 279.359 2511.39 276.159 Q2508.11 272.918 2508.11 264.411 L2508.11 239.781 L2502.64 239.781 L2502.64 233.989 L2508.11 233.989 L2508.11 221.107 L2515.6 221.107 Z\" fill=\"#000000\" fill-rule=\"evenodd\" fill-opacity=\"1\" /><path clip-path=\"url(#clip350)\" d=\"M 0 0 M2576.49 251.975 L2576.49 279.359 L2569.04 279.359 L2569.04 252.218 Q2569.04 245.777 2566.52 242.577 Q2564.01 239.376 2558.99 239.376 Q2552.95 239.376 2549.47 243.225 Q2545.99 247.073 2545.99 253.716 L2545.99 279.359 L2538.49 279.359 L2538.49 216.327 L2545.99 216.327 L2545.99 241.037 Q2548.66 236.946 2552.26 234.92 Q2555.91 232.895 2560.65 232.895 Q2568.47 232.895 2572.48 237.756 Q2576.49 242.577 2576.49 251.975 Z\" fill=\"#000000\" fill-rule=\"evenodd\" fill-opacity=\"1\" /><circle clip-path=\"url(#clip350)\" cx=\"2280.28\" cy=\"354.959\" r=\"40\" fill=\"#ffa500\" fill-rule=\"evenodd\" fill-opacity=\"1\" stroke=\"#000000\" stroke-opacity=\"1\" stroke-width=\"0\"/>\n",
       "<path clip-path=\"url(#clip350)\" d=\"M 0 0 M2392.94 339.829 L2400.4 339.829 L2400.4 385.199 L2392.94 385.199 L2392.94 339.829 M2392.94 322.167 L2400.4 322.167 L2400.4 331.605 L2392.94 331.605 L2392.94 322.167 Z\" fill=\"#000000\" fill-rule=\"evenodd\" fill-opacity=\"1\" /><path clip-path=\"url(#clip350)\" d=\"M 0 0 M2445.93 357.815 L2445.93 385.199 L2438.47 385.199 L2438.47 358.058 Q2438.47 351.617 2435.96 348.417 Q2433.45 345.216 2428.43 345.216 Q2422.39 345.216 2418.91 349.065 Q2415.42 352.913 2415.42 359.556 L2415.42 385.199 L2407.93 385.199 L2407.93 339.829 L2415.42 339.829 L2415.42 346.877 Q2418.1 342.786 2421.7 340.76 Q2425.35 338.735 2430.09 338.735 Q2437.91 338.735 2441.92 343.596 Q2445.93 348.417 2445.93 357.815 Z\" fill=\"#000000\" fill-rule=\"evenodd\" fill-opacity=\"1\" /><path clip-path=\"url(#clip350)\" d=\"M 0 0 M2453.75 339.829 L2461.2 339.829 L2461.2 385.199 L2453.75 385.199 L2453.75 339.829 M2453.75 322.167 L2461.2 322.167 L2461.2 331.605 L2453.75 331.605 L2453.75 322.167 Z\" fill=\"#000000\" fill-rule=\"evenodd\" fill-opacity=\"1\" /><path clip-path=\"url(#clip350)\" d=\"M 0 0 M2476.39 326.947 L2476.39 339.829 L2491.74 339.829 L2491.74 345.621 L2476.39 345.621 L2476.39 370.251 Q2476.39 375.801 2477.89 377.38 Q2479.43 378.96 2484.09 378.96 L2491.74 378.96 L2491.74 385.199 L2484.09 385.199 Q2475.46 385.199 2472.18 381.999 Q2468.9 378.758 2468.9 370.251 L2468.9 345.621 L2463.43 345.621 L2463.43 339.829 L2468.9 339.829 L2468.9 326.947 L2476.39 326.947 Z\" fill=\"#000000\" fill-rule=\"evenodd\" fill-opacity=\"1\" /><circle clip-path=\"url(#clip350)\" cx=\"2280.28\" cy=\"460.799\" r=\"40\" fill=\"#000000\" fill-rule=\"evenodd\" fill-opacity=\"1\" stroke=\"none\"/>\n",
       "<path clip-path=\"url(#clip350)\" d=\"M 0 0 M2426.04 452.555 L2426.04 428.007 L2433.49 428.007 L2433.49 491.039 L2426.04 491.039 L2426.04 484.233 Q2423.69 488.284 2420.08 490.269 Q2416.52 492.213 2411.5 492.213 Q2403.27 492.213 2398.09 485.651 Q2392.94 479.089 2392.94 468.394 Q2392.94 457.7 2398.09 451.137 Q2403.27 444.575 2411.5 444.575 Q2416.52 444.575 2420.08 446.56 Q2423.69 448.504 2426.04 452.555 M2400.64 468.394 Q2400.64 476.618 2404 481.317 Q2407.4 485.975 2413.32 485.975 Q2419.23 485.975 2422.64 481.317 Q2426.04 476.618 2426.04 468.394 Q2426.04 460.171 2422.64 455.512 Q2419.23 450.813 2413.32 450.813 Q2407.4 450.813 2404 455.512 Q2400.64 460.171 2400.64 468.394 Z\" fill=\"#000000\" fill-rule=\"evenodd\" fill-opacity=\"1\" /><path clip-path=\"url(#clip350)\" d=\"M 0 0 M2461.93 468.232 Q2452.9 468.232 2449.41 470.298 Q2445.93 472.364 2445.93 477.347 Q2445.93 481.317 2448.52 483.666 Q2451.15 485.975 2455.65 485.975 Q2461.85 485.975 2465.58 481.6 Q2469.34 477.185 2469.34 469.893 L2469.34 468.232 L2461.93 468.232 M2476.8 465.153 L2476.8 491.039 L2469.34 491.039 L2469.34 484.152 Q2466.79 488.284 2462.98 490.269 Q2459.17 492.213 2453.67 492.213 Q2446.7 492.213 2442.57 488.325 Q2438.47 484.395 2438.47 477.833 Q2438.47 470.177 2443.58 466.288 Q2448.72 462.399 2458.89 462.399 L2469.34 462.399 L2469.34 461.67 Q2469.34 456.525 2465.94 453.73 Q2462.58 450.894 2456.46 450.894 Q2452.57 450.894 2448.89 451.826 Q2445.2 452.758 2441.8 454.621 L2441.8 447.735 Q2445.89 446.155 2449.74 445.385 Q2453.58 444.575 2457.23 444.575 Q2467.07 444.575 2471.93 449.679 Q2476.8 454.783 2476.8 465.153 Z\" fill=\"#000000\" fill-rule=\"evenodd\" fill-opacity=\"1\" /><path clip-path=\"url(#clip350)\" d=\"M 0 0 M2491.99 432.787 L2491.99 445.669 L2507.34 445.669 L2507.34 451.461 L2491.99 451.461 L2491.99 476.091 Q2491.99 481.641 2493.49 483.22 Q2495.03 484.8 2499.68 484.8 L2507.34 484.8 L2507.34 491.039 L2499.68 491.039 Q2491.06 491.039 2487.77 487.839 Q2484.49 484.598 2484.49 476.091 L2484.49 451.461 L2479.02 451.461 L2479.02 445.669 L2484.49 445.669 L2484.49 432.787 L2491.99 432.787 Z\" fill=\"#000000\" fill-rule=\"evenodd\" fill-opacity=\"1\" /><path clip-path=\"url(#clip350)\" d=\"M 0 0 M2535.78 468.232 Q2526.74 468.232 2523.26 470.298 Q2519.78 472.364 2519.78 477.347 Q2519.78 481.317 2522.37 483.666 Q2525 485.975 2529.5 485.975 Q2535.7 485.975 2539.42 481.6 Q2543.19 477.185 2543.19 469.893 L2543.19 468.232 L2535.78 468.232 M2550.64 465.153 L2550.64 491.039 L2543.19 491.039 L2543.19 484.152 Q2540.64 488.284 2536.83 490.269 Q2533.02 492.213 2527.51 492.213 Q2520.55 492.213 2516.41 488.325 Q2512.32 484.395 2512.32 477.833 Q2512.32 470.177 2517.43 466.288 Q2522.57 462.399 2532.74 462.399 L2543.19 462.399 L2543.19 461.67 Q2543.19 456.525 2539.79 453.73 Q2536.43 450.894 2530.31 450.894 Q2526.42 450.894 2522.73 451.826 Q2519.05 452.758 2515.64 454.621 L2515.64 447.735 Q2519.74 446.155 2523.58 445.385 Q2527.43 444.575 2531.08 444.575 Q2540.92 444.575 2545.78 449.679 Q2550.64 454.783 2550.64 465.153 Z\" fill=\"#000000\" fill-rule=\"evenodd\" fill-opacity=\"1\" /></svg>\n"
      ]
     },
     "execution_count": 10,
     "metadata": {},
     "output_type": "execute_result"
    }
   ],
   "source": [
    "plot()\n",
    "init_plots()"
   ]
  },
  {
   "cell_type": "code",
   "execution_count": null,
   "metadata": {},
   "outputs": [],
   "source": [
    "first_iteration = mgvi_kl_optimize_step(rng,\n",
    "                                        model, data,\n",
    "                                        starting_point;\n",
    "                                        jacobian_func=FwdRevADJacobianFunc,\n",
    "                                        residual_sampler=ImplicitResidualSampler,\n",
    "                                        optim_options=Optim.Options(iterations=10, show_trace=true),\n",
    "                                        residual_sampler_options=(;cg_params=(;maxiter=7, tol=1E-2, verbose=true)))\n",
    "\n",
    "pprintln(hcat(first_iteration.result, true_params))"
   ]
  },
  {
   "cell_type": "code",
   "execution_count": null,
   "metadata": {},
   "outputs": [],
   "source": [
    "plot_iteration = (params, label) -> let\n",
    "    ##error_mat = mgvi_kl_errors(full_model, params)\n",
    "    ##display(error_mat)\n",
    "    ##errors = sqrt.(error_mat[diagind(error_mat)])\n",
    "    ##yerr = abs.(line(common_grid, params+errors) - line(common_grid, params-errors))\n",
    "    ##scatter!(common_grid, line(common_grid, params), markercolor=:green, label=label, yerr=yerr)\n",
    "    for sample in eachcol(params.samples)\n",
    "        scatter!(_common_grid, _mean(Vector(sample)), markercolor=:gray, markeralpha=0.3, markersize=2, label=nothing)\n",
    "    end\n",
    "    scatter!(_common_grid, _mean(params.result), markercolor=:green, label=label)\n",
    "end"
   ]
  },
  {
   "cell_type": "code",
   "execution_count": null,
   "metadata": {},
   "outputs": [],
   "source": [
    "plot()\n",
    "init_plots()\n",
    "plot_iteration(first_iteration, \"first\")"
   ]
  },
  {
   "cell_type": "code",
   "execution_count": null,
   "metadata": {},
   "outputs": [],
   "source": [
    "plot_iteration_light = (params, counter) -> let\n",
    "    scatter!(_common_grid, _mean(params.result), markercolor=:green, markersize=3, markeralpha=2*atan(counter/18)/π, label=nothing)\n",
    "end"
   ]
  },
  {
   "cell_type": "code",
   "execution_count": null,
   "metadata": {},
   "outputs": [],
   "source": [
    "init_plots()\n",
    "plt = scatter(ylims=(-60,60))\n",
    "next_iteration = first_iteration\n",
    "for i in 1:15\n",
    "    pprintln(minimum(next_iteration.optimized))\n",
    "    pprintln(hcat(next_iteration.result, true_params))\n",
    "    global next_iteration = mgvi_kl_optimize_step(rng,\n",
    "                                                  model, data,\n",
    "                                                  next_iteration.result;\n",
    "                                                  num_residuals=7,\n",
    "                                                  jacobian_func=FwdRevADJacobianFunc,\n",
    "                                                  residual_sampler=ImplicitResidualSampler,\n",
    "                                                  optim_options=Optim.Options(iterations=7, x_abstol=1E-3, f_reltol=1E-2, show_trace=true),\n",
    "                                                  residual_sampler_options=(;cg_params=(;maxiter=7, tol=1E-3, verbose=true)))\n",
    "    plot_iteration_light(next_iteration, i)\n",
    "end\n",
    "pprintln(minimum(next_iteration.optimized))\n",
    "pprintln(hcat(next_iteration.result, true_params))"
   ]
  },
  {
   "cell_type": "code",
   "execution_count": null,
   "metadata": {},
   "outputs": [],
   "source": [
    "plot()\n",
    "init_plots()\n",
    "plot_iteration(next_iteration, \"last\")"
   ]
  },
  {
   "cell_type": "code",
   "execution_count": null,
   "metadata": {},
   "outputs": [],
   "source": []
  }
 ],
 "metadata": {
  "kernelspec": {
   "display_name": "Julia 1.5.2",
   "language": "julia",
   "name": "julia-1.5"
  },
  "language_info": {
   "file_extension": ".jl",
   "mimetype": "application/julia",
   "name": "julia",
   "version": "1.5.2"
  }
 },
 "nbformat": 4,
 "nbformat_minor": 3
}
